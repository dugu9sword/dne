{
 "cells": [
  {
   "cell_type": "code",
   "execution_count": 5,
   "metadata": {},
   "outputs": [
    {
     "name": "stderr",
     "output_type": "stream",
     "text": [
      "/opt/anaconda3/lib/python3.7/site-packages/ipykernel_launcher.py:4: FutureWarning: read_table is deprecated, use read_csv instead.\n",
      "  after removing the cwd from sys.path.\n"
     ]
    }
   ],
   "source": [
    "import csv\n",
    "import pandas\n",
    "path = '/home/zhouyi/counter-fitting/word_vectors/counter-fitted-vectors.txt'\n",
    "words = pandas.read_table(path, sep=\" \", \n",
    "                          index_col=0,\n",
    "                          keep_default_na= False, # some word is \"null\"/\"nan\"\n",
    "                          header=None,\n",
    "                          quoting=csv.QUOTE_NONE)\n"
   ]
  },
  {
   "cell_type": "code",
   "execution_count": 6,
   "metadata": {},
   "outputs": [],
   "source": [
    "word_list = words.index.tolist()\n",
    "idx2word = {idx: word for idx, word in enumerate(word_list)}\n",
    "word2idx = {word: idx for idx, word in enumerate(word_list)}"
   ]
  },
  {
   "cell_type": "code",
   "execution_count": 9,
   "metadata": {},
   "outputs": [],
   "source": [
    "from allennlpx.interpret.attackers.embedding_searcher import EmbeddingSearcher\n",
    "import torch\n",
    "searcher = EmbeddingSearcher(word2idx=lambda x: word2idx[x], \n",
    "                             idx2word=lambda x: idx2word[x],\n",
    "                             embed=torch.tensor(words.values).cuda())"
   ]
  },
  {
   "cell_type": "code",
   "execution_count": 10,
   "metadata": {},
   "outputs": [
    {
     "name": "stderr",
     "output_type": "stream",
     "text": [
      "100%|██████████| 65713/65713 [03:08<00:00, 347.77it/s]\n"
     ]
    }
   ],
   "source": [
    "from tqdm import tqdm\n",
    "f = open(\"nbrs.euc.top10.txt\", 'w')\n",
    "for idx in tqdm(idx2word):\n",
    "    _, I = searcher.find_neighbours(idx, measure='euc', topk=10, rho=None)\n",
    "    nbrs = [idx2word[ele] for ele in I.cpu().numpy()]\n",
    "    f.write('\\t'.join(nbrs) + '\\n')\n",
    "f.close()"
   ]
  },
  {
   "cell_type": "code",
   "execution_count": 36,
   "metadata": {},
   "outputs": [],
   "source": [
    "nbrs = pandas.read_csv(\"nbrs.euc.top10.txt\", sep=\"\\t\", \n",
    "                      index_col=0,\n",
    "                      keep_default_na= False, # some word is \"null\"/\"nan\"\n",
    "                      header=None,\n",
    "                      quoting=csv.QUOTE_NONE)"
   ]
  },
  {
   "cell_type": "code",
   "execution_count": 37,
   "metadata": {},
   "outputs": [
    {
     "data": {
      "text/plain": [
       "1        verbal\n",
       "2        phrase\n",
       "3     adjective\n",
       "4       phrases\n",
       "5      nutshell\n",
       "6         words\n",
       "7    expression\n",
       "8          wort\n",
       "9    rhetorical\n",
       "Name: word, dtype: object"
      ]
     },
     "execution_count": 37,
     "metadata": {},
     "output_type": "execute_result"
    }
   ],
   "source": [
    "nbrs.loc['word']"
   ]
  },
  {
   "cell_type": "code",
   "execution_count": 35,
   "metadata": {},
   "outputs": [
    {
     "data": {
      "text/plain": [
       "True"
      ]
     },
     "execution_count": 35,
     "metadata": {},
     "output_type": "execute_result"
    }
   ],
   "source": [
    "'ha' in nbrs.index"
   ]
  }
 ],
 "metadata": {
  "kernelspec": {
   "display_name": "Python 3",
   "language": "python",
   "name": "python3"
  },
  "language_info": {
   "codemirror_mode": {
    "name": "ipython",
    "version": 3
   },
   "file_extension": ".py",
   "mimetype": "text/x-python",
   "name": "python",
   "nbconvert_exporter": "python",
   "pygments_lexer": "ipython3",
   "version": "3.7.3"
  }
 },
 "nbformat": 4,
 "nbformat_minor": 4
}
