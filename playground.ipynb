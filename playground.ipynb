{
 "cells": [
  {
   "cell_type": "code",
   "execution_count": 15,
   "metadata": {},
   "outputs": [
    {
     "name": "stderr",
     "output_type": "stream",
     "text": [
      "Loading faiss with AVX2 support.\n"
     ]
    }
   ],
   "source": [
    "%load_ext autoreload\n",
    "%autoreload 2\n",
    "\n",
    "import os\n",
    "os.environ['TORCH_HOME'] = \"/disks/sdb/torch_home\"\n",
    "\n",
    "import logging\n",
    "logging.getLogger().setLevel(logging.WARNING)\n",
    "\n",
    "from awesome_glue.task import *\n",
    "from awesome_glue.config import Config"
   ]
  },
  {
   "cell_type": "code",
   "execution_count": 17,
   "metadata": {},
   "outputs": [
    {
     "name": "stdout",
     "output_type": "stream",
     "text": [
      "cache for AGNEWS-spacy.data exists\n",
      "*** load AGNEWS-spacy.data from cache cost 21.5 seconds\n",
      "cache for AGNEWS-glove.vec exists\n",
      "*** load AGNEWS-glove.vec from cache cost 0.0296 seconds\n",
      "Load model from saved/models/AGNEWS-lstm/best.th\n"
     ]
    },
    {
     "data": {
      "text/plain": [
       "Basic Args:\n",
       "\t--task_id=AGNEWS\n",
       "\t--finetunable=True\n",
       "\t--arch=lstm\n",
       "\t--pretrain=glove\n",
       "\t--_model_name=\n",
       "\t--mode=attack\n",
       "\t--aug_data=\n",
       "\t--adv_iter=0\n",
       "\t--adv_policy=rdm\n",
       "\t--adv_replace_num=20\n",
       "\t--adv_constraint=True\n",
       "\t--pred_ensemble=1\n",
       "\t--pred_transform=\n",
       "\t--pred_transform_args=\n",
       "\t--attack_method=pwws\n",
       "\t--attack_vectors=counter\n",
       "\t--attack_data_split=dev\n",
       "\t--attack_size=200\n",
       "\t--attack_gen_adv=False\n",
       "\t--adv_data=nogit/AGNEWS-lstm.hotflip.adv.tsv\n",
       "\t--alchemist=False\n",
       "\t--seed=2\n",
       "\t--cuda=0\n",
       "Deduced Args:\n",
       "\t--model_name=AGNEWS-lstm\n",
       "\t--tokenizer=spacy"
      ]
     },
     "execution_count": 17,
     "metadata": {},
     "output_type": "execute_result"
    }
   ],
   "source": [
    "config = Config()\n",
    "task = Task(config)\n",
    "task.from_pretrained()\n",
    "config"
   ]
  },
  {
   "cell_type": "code",
   "execution_count": 30,
   "metadata": {},
   "outputs": [
    {
     "name": "stdout",
     "output_type": "stream",
     "text": [
      "cache for AGNEWS-counter.vec exists\n",
      "*** load AGNEWS-counter.vec from cache cost 0.0318 seconds\n"
     ]
    }
   ],
   "source": [
    "spacy_vocab, spacy_vec = task.get_spacy_vocab_and_vec()\n",
    "searcher = EmbeddingSearcher(spacy_vec, \n",
    "                            word2idx=spacy_vocab.get_token_index,\n",
    "                            idx2word=spacy_vocab.get_token_from_index)"
   ]
  },
  {
   "cell_type": "code",
   "execution_count": 32,
   "metadata": {},
   "outputs": [
    {
     "data": {
      "text/plain": [
       "['index',\n",
       " 'indexed',\n",
       " 'clue',\n",
       " 'hint',\n",
       " 'indicator',\n",
       " 'indication',\n",
       " 'indicators',\n",
       " 'pegged',\n",
       " 'pointers',\n",
       " 'signposts']"
      ]
     },
     "execution_count": 32,
     "metadata": {},
     "output_type": "execute_result"
    }
   ],
   "source": [
    "searcher.search('index', topk=10, return_words=True)"
   ]
  },
  {
   "cell_type": "code",
   "execution_count": 7,
   "metadata": {},
   "outputs": [],
   "source": [
    "from awesome_glue.transforms import parse_transform_fn_from_args\n"
   ]
  },
  {
   "cell_type": "code",
   "execution_count": 14,
   "metadata": {},
   "outputs": [
    {
     "data": {
      "text/plain": [
       "['Prices Climb Ahead di Google IPO NEW YORK - muttered contracts Wednesday aux bene']"
      ]
     },
     "execution_count": 14,
     "metadata": {},
     "output_type": "execute_result"
    }
   ],
   "source": [
    "fn = parse_transform_fn_from_args('rand_drop|embed_aug', '0.3|0.9')\n",
    "fn(['Stock Prices Climb Ahead of Google IPO NEW YORK - Investors shrugged off rising crude futures Wednesday to capture well'])"
   ]
  },
  {
   "cell_type": "code",
   "execution_count": 38,
   "metadata": {},
   "outputs": [
    {
     "data": {
      "text/plain": [
       "{'probs': [0.6894714832305908,\n",
       "  0.0003360987757332623,\n",
       "  0.30292391777038574,\n",
       "  0.007268466055393219]}"
      ]
     },
     "execution_count": 38,
     "metadata": {},
     "output_type": "execute_result"
    }
   ],
   "source": [
    "\n",
    "task.predictor.predict(\"Stock Prices Climb Ahead of Google IPO NEW YORK - Investors shrugged off rising crude futures Wednesday to capture well - priced shares , sending the Nasdaq composite index up 1.6 percent ahead of Google Inc. 's much - anticipated initial public offering of stock . In afternoon trading , the Dow Jones industrial average gained 67.10 , or 0.7 percent , to 10,039.93 ...\")"
   ]
  },
  {
   "cell_type": "code",
   "execution_count": 87,
   "metadata": {},
   "outputs": [
    {
     "name": "stdout",
     "output_type": "stream",
     "text": [
      "cache for AGNEWS-spacy.data exists\n",
      "*** load AGNEWS-spacy.data from cache cost 18.8 seconds\n",
      "cache for AGNEWS-glove.vec exists\n",
      "*** load AGNEWS-glove.vec from cache cost 0.0567 seconds\n"
     ]
    }
   ],
   "source": [
    "config = Config()\n",
    "config.task_id = 'AGNEWS'\n",
    "task = Task(config)\n",
    "task.from_pretrained()\n",
    "config\n",
    "\n",
    "values = list(task.vocab.get_index_to_token_vocabulary().values())\n",
    "results = []\n",
    "from allennlp.common.util import lazy_groups_of\n",
    "for group in lazy_groups_of(values, 1024):\n",
    "    result = task.predictor.predict_batch_json([{\"sent\": ele} for ele in group])\n",
    "    result = [ele['probs'][0] for ele in result]\n",
    "    results.extend(result)\n",
    "pairs = sorted(zip(values, results), key=lambda x: x[1], reverse=False)"
   ]
  },
  {
   "cell_type": "code",
   "execution_count": 90,
   "metadata": {},
   "outputs": [
    {
     "name": "stdout",
     "output_type": "stream",
     "text": [
      "cache for AGNEWS-spacy.data exists\n",
      "*** load AGNEWS-spacy.data from cache cost 17.6 seconds\n",
      "cache for AGNEWS-glove.vec exists\n",
      "*** load AGNEWS-glove.vec from cache cost 0.042 seconds\n"
     ]
    },
    {
     "data": {
      "application/vnd.jupyter.widget-view+json": {
       "model_id": "4f765871c10840a3b46e3e67bddba241",
       "version_major": 2,
       "version_minor": 0
      },
      "text/plain": [
       "HBox(children=(FloatProgress(value=0.0, max=47.0), HTML(value='')))"
      ]
     },
     "metadata": {},
     "output_type": "display_data"
    },
    {
     "name": "stdout",
     "output_type": "stream",
     "text": [
      "\n",
      "{'accuracy': 0.8999332888592395, 'loss': 0.3075038285014477}\n"
     ]
    }
   ],
   "source": [
    "config._model_name = 'AGNEWS-lstm-hot.1.5.con'\n",
    "task = Task(config)\n",
    "task.from_pretrained()\n",
    "task.model.eval()\n",
    "task.evaluate_model()\n",
    "config\n",
    "\n",
    "values = list(task.vocab.get_index_to_token_vocabulary().values())\n",
    "results = []\n",
    "from allennlp.common.util import lazy_groups_of\n",
    "for group in lazy_groups_of(values, 1024):\n",
    "    result = task.predictor.predict_batch_json([{\"sent\": ele} for ele in group])\n",
    "    result = [ele['probs'][0] for ele in result]\n",
    "    results.extend(result)\n",
    "pairs2 = sorted(zip(values, results), key=lambda x: x[1], reverse=False)"
   ]
  },
  {
   "cell_type": "code",
   "execution_count": 91,
   "metadata": {},
   "outputs": [
    {
     "name": "stdout",
     "output_type": "stream",
     "text": [
      "tickers 0.0 0.01\n",
      "Forbes.com 0.0 0.0\n",
      "peripherals 0.0 0.04\n",
      "camcorder 0.0 0.09\n",
      "fax 0.0 0.07\n",
      "lender 0.0 0.07\n",
      "KLM 0.0 0.01\n",
      "WMT.N 0.0 0.01\n",
      "lifecycle 0.0 0.01\n",
      "G20 0.0 0.01\n",
      "securities 0.0 0.08\n",
      "interface 0.0 0.02\n",
      "reinsurance 0.0 0.03\n",
      "quickinfo 0.0 0.0\n",
      "investing 0.0 0.05\n",
      "wireless 0.0 0.03\n",
      "router 0.0 0.03\n",
      "UAIR.O 0.0 0.01\n",
      "retirees 0.0 0.07\n",
      "generates 0.0 0.19\n",
      "www.investor.reuters.com 0.0 0.01\n",
      "55-a 0.0 0.01\n",
      "mortgage 0.0 0.05\n",
      "inflationary 0.0 0.03\n",
      "companys 0.0 0.02\n",
      "ConocoPhillips 0.0 0.01\n",
      "subscriptions 0.0 0.04\n",
      "bookkeeping 0.0 0.06\n",
      "spinner 0.0 0.08\n",
      "subsystem 0.0 0.01\n"
     ]
    }
   ],
   "source": [
    "for ele in pairs[:30]:\n",
    "    for ele2 in pairs2:\n",
    "        if ele[0] == ele2[0]:\n",
    "            print(ele[0], round(ele[1], 2), round(ele2[1], 2))"
   ]
  },
  {
   "cell_type": "code",
   "execution_count": 92,
   "metadata": {},
   "outputs": [
    {
     "name": "stdout",
     "output_type": "stream",
     "text": [
      "['tickers', 'Forbes.com', 'peripherals', 'camcorder', 'fax', 'lender', 'KLM', 'WMT.N', 'lifecycle', 'G20', 'securities', 'interface', 'reinsurance', 'quickinfo', 'investing', 'wireless', 'router', 'UAIR.O', 'retirees', 'generates', 'www.investor.reuters.com', '55-a', 'mortgage', 'inflationary', 'companys', 'ConocoPhillips', 'subscriptions', 'bookkeeping', 'spinner', 'subsystem']\n",
      "['HealthDay', 'swappers?', 'freeware', '700th', 'NEERGAARD', 'humphead', '8482', 'iPod', 'EMMA', 'LAURAN', \"Cash'n'Carrion\", 'RFID', 'Conservation', 'Unix', 'handhelds', 'Playstation', 'shareware', 'fourball', 'Gamers', 'Basketball', 'NHL', 'configurator', 'X-43A', 'Forrester', 'Jaschan', 'Shaquille', 'Email', 'Kobe', 'Vitali', 'aggregator']\n"
     ]
    }
   ],
   "source": [
    "print(list(map(lambda x: x[0], pairs[:30])))\n",
    "print(list(map(lambda x: x[0], pairs2[:30])))"
   ]
  },
  {
   "cell_type": "code",
   "execution_count": 30,
   "metadata": {},
   "outputs": [
    {
     "name": "stdout",
     "output_type": "stream",
     "text": [
      "cache for TOY-spacy.data exists\n",
      "*** load TOY-spacy.data from cache cost 4.25 seconds\n"
     ]
    }
   ],
   "source": [
    "toy_data = load_data(\"TOY\", \"spacy\")\n",
    "vocab = toy_data['vocab']"
   ]
  },
  {
   "cell_type": "code",
   "execution_count": 3,
   "metadata": {},
   "outputs": [
    {
     "name": "stderr",
     "output_type": "stream",
     "text": [
      "I0320 08:16:04.904309 140473276524352 configuration_utils.py:254] loading configuration file https://s3.amazonaws.com/models.huggingface.co/bert/bert-base-uncased-config.json from cache at /disks/sdb/torch_home/transformers/4dad0251492946e18ac39290fcfe91b89d370fee250efe9521476438fe8ca185.8f56353af4a709bf5ff0fbc915d8f5b42bfff892cbb6ac98c3c45f481a03c685\n",
      "I0320 08:16:04.906084 140473276524352 configuration_utils.py:290] Model config BertConfig {\n",
      "  \"architectures\": [\n",
      "    \"BertForMaskedLM\"\n",
      "  ],\n",
      "  \"attention_probs_dropout_prob\": 0.1,\n",
      "  \"bos_token_id\": 0,\n",
      "  \"do_sample\": false,\n",
      "  \"eos_token_ids\": 0,\n",
      "  \"finetuning_task\": null,\n",
      "  \"hidden_act\": \"gelu\",\n",
      "  \"hidden_dropout_prob\": 0.1,\n",
      "  \"hidden_size\": 768,\n",
      "  \"id2label\": {\n",
      "    \"0\": \"LABEL_0\",\n",
      "    \"1\": \"LABEL_1\"\n",
      "  },\n",
      "  \"initializer_range\": 0.02,\n",
      "  \"intermediate_size\": 3072,\n",
      "  \"is_decoder\": false,\n",
      "  \"label2id\": {\n",
      "    \"LABEL_0\": 0,\n",
      "    \"LABEL_1\": 1\n",
      "  },\n",
      "  \"layer_norm_eps\": 1e-12,\n",
      "  \"length_penalty\": 1.0,\n",
      "  \"max_length\": 20,\n",
      "  \"max_position_embeddings\": 512,\n",
      "  \"model_type\": \"bert\",\n",
      "  \"num_attention_heads\": 12,\n",
      "  \"num_beams\": 1,\n",
      "  \"num_hidden_layers\": 12,\n",
      "  \"num_labels\": 2,\n",
      "  \"num_return_sequences\": 1,\n",
      "  \"output_attentions\": false,\n",
      "  \"output_hidden_states\": false,\n",
      "  \"output_past\": true,\n",
      "  \"pad_token_id\": 0,\n",
      "  \"pruned_heads\": {},\n",
      "  \"repetition_penalty\": 1.0,\n",
      "  \"temperature\": 1.0,\n",
      "  \"top_k\": 50,\n",
      "  \"top_p\": 1.0,\n",
      "  \"torchscript\": false,\n",
      "  \"type_vocab_size\": 2,\n",
      "  \"use_bfloat16\": false,\n",
      "  \"vocab_size\": 30522\n",
      "}\n",
      "\n",
      "I0320 08:16:05.988366 140473276524352 tokenization_utils.py:418] loading file https://s3.amazonaws.com/models.huggingface.co/bert/bert-base-uncased-vocab.txt from cache at /disks/sdb/torch_home/transformers/26bc1ad6c0ac742e9b52263248f6d0f00068293b33709fae12320c0e35ccfbbb.542ce4285a40d23a559526243235df47c5f75c197f04f37d1a0c124c32c9a084\n"
     ]
    },
    {
     "data": {
      "text/plain": [
       "[[CLS], hello, world, i, want, to, fly, onto, the, dell, [SEP]]"
      ]
     },
     "execution_count": 3,
     "metadata": {},
     "output_type": "execute_result"
    }
   ],
   "source": [
    "from allennlp.data.tokenizers import PretrainedTransformerTokenizer\n",
    "tokenizer = PretrainedTransformerTokenizer('bert-base-uncased')\n",
    "tokenizer.tokenize('hello world i want to fly onto the dell')"
   ]
  }
 ],
 "metadata": {
  "kernelspec": {
   "display_name": "Python 3",
   "language": "python",
   "name": "python3"
  },
  "language_info": {
   "codemirror_mode": {
    "name": "ipython",
    "version": 3
   },
   "file_extension": ".py",
   "mimetype": "text/x-python",
   "name": "python",
   "nbconvert_exporter": "python",
   "pygments_lexer": "ipython3",
   "version": "3.7.3"
  }
 },
 "nbformat": 4,
 "nbformat_minor": 4
}
