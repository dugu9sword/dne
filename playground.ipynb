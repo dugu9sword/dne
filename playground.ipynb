{
 "cells": [
  {
   "cell_type": "code",
   "execution_count": 102,
   "metadata": {},
   "outputs": [
    {
     "name": "stdout",
     "output_type": "stream",
     "text": [
      "The autoreload extension is already loaded. To reload it, use:\n",
      "  %reload_ext autoreload\n"
     ]
    }
   ],
   "source": [
    "%load_ext autoreload\n",
    "%autoreload 2\n",
    "\n",
    "import os\n",
    "os.environ['TORCH_HOME'] = \"/disks/sdb/torch_home\"\n",
    "\n",
    "import logging\n",
    "logging.getLogger().setLevel(logging.WARNING)\n",
    "\n",
    "from allennlpx.data.dataset_readers.agnews import AGNewsDataReader\n",
    "from allennlp.data.token_indexers import SingleIdTokenIndexer\n",
    "from allennlpx import allenutil\n",
    "import pandas\n",
    "\n",
    "from allennlp.data.tokenizers import SpacyTokenizer\n",
    "tokenizer = SpacyTokenizer()\n"
   ]
  },
  {
   "cell_type": "code",
   "execution_count": 98,
   "metadata": {},
   "outputs": [],
   "source": [
    "import re\n",
    "\n",
    "def clean_str(string, lower=False):\n",
    "    string = re.sub(r\"[^A-Za-z0-9(),.!?\\'\\`\\-]\", \" \", string)\n",
    "    string = re.sub(r\"\\t\", \" \", string)\n",
    "#     string = re.sub(r\"\\'s\", \" 's\", string)\n",
    "#     string = re.sub(r\"\\'ve\", \" 've\", string)\n",
    "#     string = re.sub(r\"n\\'t\", \" n't\", string)\n",
    "#     string = re.sub(r\"\\'re\", \" 're\", string)\n",
    "#     string = re.sub(r\"\\'d\", \" 'd\", string)\n",
    "#     string = re.sub(r\"\\'ll\", \" 'll\", string)\n",
    "#     string = re.sub(r\",\", \" , \", string)\n",
    "#     string = re.sub(\"'\", \" ' \", string)   # 's 've\n",
    "#     string = re.sub('\"', ' \" ', string)\n",
    "#     string = re.sub(r\"!\", \" ! \", string)\n",
    "#     string = re.sub(r\"\\(\", \" ( \", string)\n",
    "#     string = re.sub(r\"\\)\", \" ) \", string)\n",
    "#     string = re.sub(r\"\\?\", \" ? \", string)\n",
    "#     string = re.sub(r\"\\s{2,}\", \" \", string)\n",
    "    string = string.strip()\n",
    "    string = re.sub(r\" +\", \" \", string)\n",
    "    if lower:\n",
    "        string = string.lower()\n",
    "    return string"
   ]
  },
  {
   "cell_type": "code",
   "execution_count": null,
   "metadata": {},
   "outputs": [],
   "source": [
    "df = pandas.read_csv('/disks/sdb/zjiehang/frequency/data/agnews/train.csv', header=None)\n",
    "out = open('datasets/agnews/train.tsv', 'w')\n",
    "out.write(\"sent\\tlabel\\n\")\n",
    "\n",
    "for i in range(df.shape[0]):\n",
    "#     out.write(f\"{tokenizer.tokenize(clean_str(df.iloc[i][1] + ' ' + df.iloc[i][2]))}\\t{df.iloc[i][0]}\\n\")\n",
    "    out.write(f\"{clean_str(df.iloc[i][1] + ' ' + df.iloc[i][2])}\\t{df.iloc[i][0] - 1}\\n\")\n",
    "out.close()"
   ]
  },
  {
   "cell_type": "code",
   "execution_count": 85,
   "metadata": {},
   "outputs": [
    {
     "name": "stdout",
     "output_type": "stream",
     "text": [
      "Dolphin groups, or \"pods\", (rely) I's on social\\dites to keep them from collapsing, scientists claim.\n",
      "Dolphin groups, or  pods , (rely) I's on social dites to keep them from collapsing, scientists claim.\n",
      "Dolphin groups , or \" pods \" , ( rely ) I 's on social\\dites to keep them from collapsing , scientists claim .\n"
     ]
    }
   ],
   "source": [
    "# sent = df.iloc[14][2]\n",
    "sent = \"\"\"Dolphin groups, or \"pods\", (rely) I's on socialdites to keep them from collapsing, scientists claim.\"\"\"\n",
    "print(sent)\n",
    "print(clean_str(sent))\n",
    "\n",
    "\n",
    "\n",
    "print(\" \".join(map(lambda x:x.text, tokenizer.tokenize(sent))))"
   ]
  },
  {
   "cell_type": "code",
   "execution_count": null,
   "metadata": {},
   "outputs": [],
   "source": []
  }
 ],
 "metadata": {
  "kernelspec": {
   "display_name": "Python 3",
   "language": "python",
   "name": "python3"
  },
  "language_info": {
   "codemirror_mode": {
    "name": "ipython",
    "version": 3
   },
   "file_extension": ".py",
   "mimetype": "text/x-python",
   "name": "python",
   "nbconvert_exporter": "python",
   "pygments_lexer": "ipython3",
   "version": "3.7.3"
  }
 },
 "nbformat": 4,
 "nbformat_minor": 4
}
