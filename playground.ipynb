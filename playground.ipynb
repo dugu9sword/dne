{
 "cells": [
  {
   "cell_type": "code",
   "execution_count": 131,
   "metadata": {},
   "outputs": [
    {
     "name": "stdout",
     "output_type": "stream",
     "text": [
      "The autoreload extension is already loaded. To reload it, use:\n",
      "  %reload_ext autoreload\n"
     ]
    }
   ],
   "source": [
    "%load_ext autoreload\n",
    "%autoreload 2\n",
    "\n",
    "import os\n",
    "os.environ['TORCH_HOME'] = \"/disks/sdb/torch_home\"\n",
    "\n",
    "import logging\n",
    "logging.getLogger().setLevel(logging.WARNING)\n",
    "\n",
    "from awesome_glue.task import *\n",
    "from awesome_glue.config import Config"
   ]
  },
  {
   "cell_type": "code",
   "execution_count": 132,
   "metadata": {},
   "outputs": [
    {
     "name": "stdout",
     "output_type": "stream",
     "text": [
      "cache for SST-spacy.data exists\n",
      "*** load SST-spacy.data from cache cost 5.61 seconds\n",
      "cache for SST-glove.vec exists\n",
      "*** load SST-glove.vec from cache cost 0.0347 seconds\n"
     ]
    },
    {
     "data": {
      "text/plain": [
       "Basic Args:\n",
       "\t--task_id=SST\n",
       "\t--finetunable=True\n",
       "\t--arch=lstm\n",
       "\t--pretrain=glove\n",
       "\t--_model_name=\n",
       "\t--mode=attack\n",
       "\t--adv_data=nogit/AGNEWS-lstm.hotflip.adv.bt.tsv\n",
       "\t--transform=identity\n",
       "\t--aug_data=\n",
       "\t--attack_method=pwws\n",
       "\t--attack_vectors=counter\n",
       "\t--attack_data_split=dev\n",
       "\t--attack_size=400\n",
       "\t--attack_gen_aug=False\n",
       "\t--attack_gen_adv=False\n",
       "\t--alchemist=False\n",
       "\t--seed=2\n",
       "Deduced Args:\n",
       "\t--model_name=SST-lstm\n",
       "\t--tokenizer=spacy"
      ]
     },
     "execution_count": 132,
     "metadata": {},
     "output_type": "execute_result"
    }
   ],
   "source": [
    "config = Config()\n",
    "task = Task(config)\n",
    "config"
   ]
  }
 ],
 "metadata": {
  "kernelspec": {
   "display_name": "Python 3",
   "language": "python",
   "name": "python3"
  },
  "language_info": {
   "codemirror_mode": {
    "name": "ipython",
    "version": 3
   },
   "file_extension": ".py",
   "mimetype": "text/x-python",
   "name": "python",
   "nbconvert_exporter": "python",
   "pygments_lexer": "ipython3",
   "version": "3.7.3"
  }
 },
 "nbformat": 4,
 "nbformat_minor": 4
}
