{
 "cells": [
  {
   "cell_type": "code",
   "execution_count": 19,
   "metadata": {},
   "outputs": [],
   "source": [
    "import pandas\n",
    "from tqdm import tqdm\n",
    "df = pandas.read_csv('nogit/SST-bert.adv.tsv', '\\t')\n",
    "\n",
    "sents = df.iloc[:, 1].tolist()\n",
    "out = open('/home/zhouyi/fsgec/out/data_raw/test.src-tgt.src.old', 'w')\n",
    "for sent in sents:\n",
    "    out.write(sent+'\\n')\n",
    "out.close()"
   ]
  },
  {
   "cell_type": "code",
   "execution_count": 20,
   "metadata": {},
   "outputs": [],
   "source": [
    "dae_raws = open('/home/zhouyi/fsgec/out/result/raw.txt').readlines()\n",
    "dae_atts = open('/home/zhouyi/fsgec/out/result/att.txt').readlines()\n",
    "\n",
    "out = open('nogit/SST-bert.adv.dae.tsv', 'w')\n",
    "out.write('raw\\tatt\\tlabel\\n')\n",
    "for i in range(len(dae_advs)):\n",
    "    out.write(f'{dae_raws[i][:-1]}\\t{dae_advs[i][:-1]}\\t{df.iloc[i, 2]}\\n')\n",
    "out.close()"
   ]
  }
 ],
 "metadata": {
  "kernelspec": {
   "display_name": "Python 3",
   "language": "python",
   "name": "python3"
  },
  "language_info": {
   "codemirror_mode": {
    "name": "ipython",
    "version": 3
   },
   "file_extension": ".py",
   "mimetype": "text/x-python",
   "name": "python",
   "nbconvert_exporter": "python",
   "pygments_lexer": "ipython3",
   "version": "3.7.3"
  }
 },
 "nbformat": 4,
 "nbformat_minor": 4
}
