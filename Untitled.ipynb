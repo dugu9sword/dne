{
 "cells": [
  {
   "cell_type": "code",
   "execution_count": 1,
   "metadata": {},
   "outputs": [],
   "source": [
    "import numpy as np\n",
    "import faiss"
   ]
  },
  {
   "cell_type": "code",
   "execution_count": 2,
   "metadata": {},
   "outputs": [],
   "source": [
    "data = np.random.rand(100000, 100).astype(np.float32)"
   ]
  },
  {
   "cell_type": "code",
   "execution_count": 14,
   "metadata": {},
   "outputs": [],
   "source": [
    "dim = data.shape[1]\n",
    "index = faiss.IndexFlatL2(dim)\n",
    "index = faiss.IndexIVFFlat(index, dim, 10)\n",
    "# index = faiss.IndexIVFPQ(index, dim, 100, 10, 32)\n",
    "\n",
    "res = faiss.StandardGpuResources()  # use a single GPU\n",
    "index = faiss.index_cpu_to_gpu(res, 0, index)\n",
    "\n",
    "index.train(data)\n",
    "index.add(data)\n",
    "index.nprobe = 1\n",
    "\n",
    "\n"
   ]
  },
  {
   "cell_type": "code",
   "execution_count": 7,
   "metadata": {},
   "outputs": [
    {
     "data": {
      "text/plain": [
       "<faiss.swigfaiss_avx2.GpuIndexIVFFlat; proxy of <Swig Object of type 'faiss::gpu::GpuIndexIVFFlat *' at 0x7f6cdeb35810> >"
      ]
     },
     "execution_count": 7,
     "metadata": {},
     "output_type": "execute_result"
    }
   ],
   "source": [
    "index"
   ]
  },
  {
   "cell_type": "code",
   "execution_count": 8,
   "metadata": {},
   "outputs": [
    {
     "data": {
      "text/plain": [
       "(array([[0.       , 9.9970665]], dtype=float32), array([[    4, 38989]]))"
      ]
     },
     "execution_count": 8,
     "metadata": {},
     "output_type": "execute_result"
    }
   ],
   "source": [
    "index.search(data[4:5, :], k=2)"
   ]
  },
  {
   "cell_type": "code",
   "execution_count": 16,
   "metadata": {},
   "outputs": [
    {
     "name": "stdout",
     "output_type": "stream",
     "text": [
      "[[    0 18857 32961 18288]]\n",
      "[[    0 18857 42676 19229]]\n"
     ]
    }
   ],
   "source": [
    "data = np.random.rand(100000, 100).astype(np.float32)\n",
    "xb = data\n",
    "xq = data[0:1]\n",
    "d = data.shape[1]\n",
    "nlist = 100\n",
    "k = 4\n",
    "quantizer = faiss.IndexFlatL2(d)  # the other index\n",
    "# index = faiss.IndexIVFFlat(quantizer, d, nlist)\n",
    "index = faiss.IndexIVFPQ(quantizer, d, nlist, 10, 8)\n",
    "assert not index.is_trained\n",
    "index.train(xb)\n",
    "assert index.is_trained\n",
    "\n",
    "index.add(xb)                  # add may be a bit slower as well\n",
    "D, I = index.search(xq, k)     # actual search\n",
    "print(I[-5:])                  # neighbors of the 5 last queries\n",
    "index.nprobe = 10              # default nprobe is 1, try a few more\n",
    "D, I = index.search(xq, k)\n",
    "print(I[-5:])                  # neighbors of the 5 last queries\n"
   ]
  }
 ],
 "metadata": {
  "kernelspec": {
   "display_name": "Python 3",
   "language": "python",
   "name": "python3"
  },
  "language_info": {
   "codemirror_mode": {
    "name": "ipython",
    "version": 3
   },
   "file_extension": ".py",
   "mimetype": "text/x-python",
   "name": "python",
   "nbconvert_exporter": "python",
   "pygments_lexer": "ipython3",
   "version": "3.7.4"
  }
 },
 "nbformat": 4,
 "nbformat_minor": 4
}
