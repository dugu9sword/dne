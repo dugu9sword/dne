{
 "cells": [
  {
   "cell_type": "code",
   "execution_count": 1,
   "metadata": {},
   "outputs": [],
   "source": [
    "%load_ext autoreload\n",
    "%autoreload 2"
   ]
  },
  {
   "cell_type": "code",
   "execution_count": 4,
   "metadata": {},
   "outputs": [],
   "source": [
    "from allennlpx.interpret.attackers.synonym_searcher import SynonymSearcher\n",
    "searcher = SynonymSearcher()"
   ]
  },
  {
   "cell_type": "code",
   "execution_count": 3,
   "metadata": {},
   "outputs": [
    {
     "data": {
      "text/plain": [
       "['travel',\n",
       " 'go',\n",
       " 'move',\n",
       " 'locomote',\n",
       " 'proceed',\n",
       " 'depart',\n",
       " 'become',\n",
       " 'get',\n",
       " 'run',\n",
       " 'pass',\n",
       " 'lead',\n",
       " 'extend',\n",
       " 'sound',\n",
       " 'function',\n",
       " 'work',\n",
       " 'operate',\n",
       " 'survive',\n",
       " 'last',\n",
       " 'live',\n",
       " 'endure',\n",
       " 'die',\n",
       " 'decease',\n",
       " 'perish',\n",
       " 'exit',\n",
       " 'expire',\n",
       " 'conk',\n",
       " 'choke',\n",
       " 'croak',\n",
       " 'belong',\n",
       " 'start',\n",
       " 'blend',\n",
       " 'fit',\n",
       " 'rifle',\n",
       " 'plump',\n",
       " 'fail',\n",
       " 'break']"
      ]
     },
     "execution_count": 3,
     "metadata": {},
     "output_type": "execute_result"
    }
   ],
   "source": []
  }
 ],
 "metadata": {
  "kernelspec": {
   "display_name": "Python 3",
   "language": "python",
   "name": "python3"
  },
  "language_info": {
   "codemirror_mode": {
    "name": "ipython",
    "version": 3
   },
   "file_extension": ".py",
   "mimetype": "text/x-python",
   "name": "python",
   "nbconvert_exporter": "python",
   "pygments_lexer": "ipython3",
   "version": "3.7.3"
  }
 },
 "nbformat": 4,
 "nbformat_minor": 4
}
