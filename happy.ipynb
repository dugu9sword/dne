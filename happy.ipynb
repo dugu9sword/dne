{
 "cells": [
  {
   "cell_type": "code",
   "execution_count": 1,
   "metadata": {},
   "outputs": [],
   "source": [
    "data = [[1, 1, 1, 0.8929], [1, 1, 0.5, 0.8989], [1, 1, 0.25, 0.8945], [1, 1, 0, 0.8934], [1, 0.5, 1, 0.8934], [1, 0.5, 0.5, 0.8797], [1, 0.5, 0.25, 0.8808], [1, 0.5, 0, 0.8852], [1, 0.25, 1, 0.8802], [1, 0.25, 0.5, 0.8753], [1, 0.25, 0.25, 0.8808], [1, 0.25, 0, 0.8835], [1, 0, 1, 0.8802], [1, 0, 0.5, 0.8813], [1, 0, 0.25, 0.8797], [1, 0, 0, 0.8769], [0, 1, 1, 0.8868], [0, 1, 0.5, 0.8874], [0, 1, 0.25, 0.8775], [0, 1, 0, 0.8747], [0, 0.5, 1, 0.8852], [0, 0.5, 0.5, 0.8786], [0, 0.5, 0.25, 0.8846], [0, 0.5, 0, 0.8841], [0, 0.25, 1, 0.8791], [0, 0.25, 0.5, 0.8769], [0, 0.25, 0.25, 0.8758], [0, 0.25, 0, 0.8725], [0, 0, 1, 0.8742], [0, 0, 0.5, 0.8868], [0, 0, 0.25, 0.8780], [0, 0, 0, 0.8753]]"
   ]
  },
  {
   "cell_type": "code",
   "execution_count": 21,
   "metadata": {},
   "outputs": [
    {
     "data": {
      "text/plain": [
       "array([0.44885714, 0.46714286])"
      ]
     },
     "execution_count": 21,
     "metadata": {},
     "output_type": "execute_result"
    }
   ],
   "source": [
    "import numpy as np\n",
    "from sklearn.linear_model import LinearRegression\n",
    "data = np.array(data)\n",
    "X = data[16:, 1:3]\n",
    "y = data[16:, 3] * 100\n",
    "reg = LinearRegression().fit(X, y)\n",
    "reg.score(X, y)\n",
    "reg.coef_"
   ]
  },
  {
   "cell_type": "code",
   "execution_count": 15,
   "metadata": {},
   "outputs": [
    {
     "data": {
      "text/plain": [
       "LinearRegression(copy_X=True, fit_intercept=True, n_jobs=None, normalize=False)"
      ]
     },
     "execution_count": 15,
     "metadata": {},
     "output_type": "execute_result"
    }
   ],
   "source": []
  },
  {
   "cell_type": "code",
   "execution_count": 13,
   "metadata": {},
   "outputs": [
    {
     "data": {
      "text/plain": [
       "array([0.495     , 1.03914286, 0.34085714])"
      ]
     },
     "execution_count": 13,
     "metadata": {},
     "output_type": "execute_result"
    }
   ],
   "source": []
  }
 ],
 "metadata": {
  "kernelspec": {
   "display_name": "Python 3",
   "language": "python",
   "name": "python3"
  },
  "language_info": {
   "codemirror_mode": {
    "name": "ipython",
    "version": 3
   },
   "file_extension": ".py",
   "mimetype": "text/x-python",
   "name": "python",
   "nbconvert_exporter": "python",
   "pygments_lexer": "ipython3",
   "version": "3.7.5"
  }
 },
 "nbformat": 4,
 "nbformat_minor": 4
}
