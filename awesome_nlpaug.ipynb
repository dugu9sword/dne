{
 "cells": [
  {
   "cell_type": "code",
   "execution_count": 19,
   "metadata": {},
   "outputs": [],
   "source": [
    "import os\n",
    "\n",
    "os.environ['TORCH_HOME'] = '/disks/sdb/torch_home'\n",
    "\n",
    "import nlpaug.augmenter.char as nac\n",
    "import nlpaug.augmenter.word as naw\n",
    "import nlpaug.augmenter.sentence as nas\n",
    "import nlpaug.flow as nafc\n",
    "\n",
    "from nlpaug.util import Action"
   ]
  },
  {
   "cell_type": "code",
   "execution_count": 4,
   "metadata": {},
   "outputs": [
    {
     "name": "stdout",
     "output_type": "stream",
     "text": [
      "Original:\n",
      "The quick brown fox jumps over the lazy dog\n",
      "Augmented Text:\n",
      "the quick brown fox from over the top .\n",
      "Original:\n",
      "The quick brown fox jumps over the lazy dog\n",
      "Augmented Text:\n",
      "the quick brown dog dog , the lazy dog\n",
      "Original:\n",
      "The quick brown fox jumps over the lazy dog\n",
      "Augmented Text:\n",
      "the quick brown cat takes over the wild dog\n"
     ]
    }
   ],
   "source": [
    "text = 'The quick brown fox jumps over the lazy dog'\n",
    "aug = naw.ContextualWordEmbsAug(\n",
    "    model_path='bert-base-uncased', \n",
    "    top_k = 30,\n",
    "    aug_min = 3,\n",
    "    aug_max = 3,\n",
    "    stopwords = ['a', 'the'],\n",
    "#     stopwords_regex = ['un', 'less'],\n",
    "    action=\"substitute\")\n",
    "for i in range(3):\n",
    "    augmented_text = aug.augment(text)\n",
    "    print(\"Original:\")\n",
    "    print(text)\n",
    "    print(\"Augmented Text:\")\n",
    "    print(augmented_text)"
   ]
  },
  {
   "cell_type": "code",
   "execution_count": 13,
   "metadata": {},
   "outputs": [
    {
     "name": "stdout",
     "output_type": "stream",
     "text": [
      "The ready brown fox stand out ended the lazy dog\n",
      "The quick robert brown slyboots jumps over the work shy dog\n",
      "The ready brown fox jumps over the work shy dog iron\n"
     ]
    }
   ],
   "source": [
    "while True:\n",
    "    try:\n",
    "        aug = naw.SynonymAug(    \n",
    "            aug_min = 3,\n",
    "            aug_max = 3\n",
    "        )\n",
    "        break\n",
    "    except:\n",
    "        import nltk\n",
    "        nltk.download('wordnet')\n",
    "        nltk.download('averaged_perceptron_tagger')\n",
    "for i in range(3):\n",
    "    print(aug.augment(text))"
   ]
  },
  {
   "cell_type": "code",
   "execution_count": 67,
   "metadata": {},
   "outputs": [
    {
     "name": "stdout",
     "output_type": "stream",
     "text": [
      "The accelerates brown fox ascends @ the lazy dogs\n",
      "The precipitous brown fox boop @ the couldnt dog\n",
      "The rushing brown fox mountaineering @ the lazy veterinarians\n"
     ]
    }
   ],
   "source": [
    "aug = naw.WordEmbsAug(  \n",
    "    model_type = 'glove',\n",
    "    model_path = '/home/zhouyi/counter-fitting/word_vectors/counter-fitted-vectors.txt',\n",
    "    aug_min = 3,\n",
    "    aug_max = 3,\n",
    "    stopwords = [\"the\"]\n",
    "#     stopwords_regex = '^@*'\n",
    ")\n",
    "text = 'The quick brown fox jumps @ the lazy dog'\n",
    "for i in range(3):\n",
    "    print(aug.augment(text))"
   ]
  },
  {
   "cell_type": "code",
   "execution_count": 82,
   "metadata": {},
   "outputs": [
    {
     "data": {
      "text/plain": [
       "'the the the to the the the the the the the the the the information technology the the prove the the'"
      ]
     },
     "execution_count": 82,
     "metadata": {},
     "output_type": "execute_result"
    }
   ],
   "source": [
    "aug = naw.SynonymAug(\n",
    "        aug_min = 3,\n",
    "        aug_max = 3,\n",
    "        stopwords = ['the'],\n",
    "#         stopwords_regex = '@',\n",
    "    )\n",
    "aug.augment(\"the the the to the the the the the the the the the the it the the prove the the\")"
   ]
  }
 ],
 "metadata": {
  "kernelspec": {
   "display_name": "Python 3",
   "language": "python",
   "name": "python3"
  },
  "language_info": {
   "codemirror_mode": {
    "name": "ipython",
    "version": 3
   },
   "file_extension": ".py",
   "mimetype": "text/x-python",
   "name": "python",
   "nbconvert_exporter": "python",
   "pygments_lexer": "ipython3",
   "version": "3.7.3"
  }
 },
 "nbformat": 4,
 "nbformat_minor": 4
}
