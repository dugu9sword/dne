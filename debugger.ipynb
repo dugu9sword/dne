{
 "cells": [
  {
   "cell_type": "code",
   "execution_count": 11,
   "metadata": {},
   "outputs": [
    {
     "name": "stdout",
     "output_type": "stream",
     "text": [
      "The autoreload extension is already loaded. To reload it, use:\n",
      "  %reload_ext autoreload\n",
      "The snoop extension is already loaded. To reload it, use:\n",
      "  %reload_ext snoop\n"
     ]
    }
   ],
   "source": [
    "%load_ext autoreload\n",
    "%autoreload 2\n",
    "%load_ext snoop\n",
    "\n",
    "import itertools\n",
    "import pandas\n",
    "import csv\n",
    "import torch\n",
    "import numpy as np\n",
    "from sklearn.manifold import TSNE\n",
    "from matplotlib import pyplot as plt\n",
    "# from allennlp.data.token_indexers.bert_tokenizers import PretrainedBertIndexer\n",
    "\n",
    "from awesome_glue.task import Task\n",
    "from awesome_glue.utils import AttackMetric\n",
    "from awesome_glue.config import Config\n",
    "\n",
    "from luna import ram_write, chunks\n",
    "from allennlpx import allenutil\n",
    "\n",
    "from luna import ram_read\n",
    "\n",
    "from allennlpx.interpret.attackers.embedding_searcher import EmbeddingSearcher\n",
    "\n",
    "from collections import Counter, defaultdict\n",
    "from tqdm import tqdm\n",
    "\n",
    "from copy import deepcopy\n",
    "from typing import List\n",
    "\n",
    "import numpy\n",
    "import torch\n",
    "import numpy as np\n",
    "from allennlp.common.util import JsonDict, sanitize\n",
    "from allennlp.data.fields import TextField\n",
    "from allennlp.data.token_indexers import ELMoTokenCharactersIndexer, TokenCharactersIndexer\n",
    "from allennlp.data.tokenizers import Token\n",
    "from allennlp.modules.text_field_embedders.text_field_embedder import TextFieldEmbedder\n",
    "from allennlp.modules.token_embedders import Embedding\n",
    "from luna import cast_list, lazy_property\n",
    "from allennlp.data.vocabulary import Vocabulary, DEFAULT_OOV_TOKEN\n",
    "\n",
    "from allennlpx.interpret.attackers.attacker import Attacker, DEFAULT_IGNORE_TOKENS\n",
    "from allennlpx.interpret.attackers.embedding_searcher import EmbeddingSearcher\n",
    "from allennlpx import allenutil\n",
    "from itertools import product\n",
    "from collections import defaultdict\n",
    "import random\n",
    "\n",
    "from functools import lru_cache\n",
    "from allennlp.data.tokenizers import SpacyTokenizer\n",
    "from luna import time_record"
   ]
  },
  {
   "cell_type": "code",
   "execution_count": 8,
   "metadata": {},
   "outputs": [
    {
     "name": "stdout",
     "output_type": "stream",
     "text": [
      "cache for SST-spacy exists\n",
      "*** load SST-spacy from cache cost 2.5 seconds\n",
      "cache for 2f2a46e51336b27a7262689b00016955 exists\n",
      "*** load 2f2a46e51336b27a7262689b00016955 from cache cost 0.0124 seconds\n",
      "Restore model from checkpoint saved/models/SST-lstm-glove@0.ckpt.\n"
     ]
    },
    {
     "data": {
      "text/plain": [
       "Basic Args:\n",
       "\t--task_id=SST\n",
       "\t--finetunable=True\n",
       "\t--arch=lstm\n",
       "\t--pretrain=glove\n",
       "\t--_model_name=SST-lstm-glove\n",
       "\t--mode=attack\n",
       "\t--adv_data=nogit/SST-bert.adv.tsv\n",
       "\t--aug_data=\n",
       "\t--attack_vectors=glove\n",
       "\t--attack_data_split=dev\n",
       "\t--attack_size=100\n",
       "\t--attack_gen_aug=False\n",
       "\t--attack_gen_adv=False\n",
       "\t--alchemist=False\n",
       "\t--seed=2\n",
       "Deduced Args:\n",
       "\t--model_name=SST-lstm-glove\n",
       "\t--tokenizer=spacy"
      ]
     },
     "execution_count": 8,
     "metadata": {},
     "output_type": "execute_result"
    }
   ],
   "source": [
    "config = Config()\n",
    "# config.finetunable=True\n",
    "task = Task(config) # type: Task\n",
    "task.from_pretrained()\n",
    "config"
   ]
  },
  {
   "cell_type": "code",
   "execution_count": null,
   "metadata": {},
   "outputs": [],
   "source": [
    "task.vocab.get_index_to_token_vocabulary().values()"
   ]
  },
  {
   "cell_type": "code",
   "execution_count": 45,
   "metadata": {},
   "outputs": [
    {
     "name": "stdout",
     "output_type": "stream",
     "text": [
      "... the film suffers from a lack of humor ( something needed to balance out the violence ) ...\n",
      "2 film shoot 0.0009989738 0.0010770559\n",
      "3 suffers support 0.029087007 0.033947527\n",
      "5 a amp 1.3530254e-05 0.00017350912\n",
      "6 lack miss 0.0007048249 0.0010660291\n",
      "8 humor humor 0.0 -1.2874603e-05\n",
      "11 needed ask 0.00010931492 0.00020360947\n",
      "13 balance poise 0.0005479455 0.00019317865\n",
      "14 out taboo 0.00027257204 9.047985e-05\n",
      "16 violence fury 0.00023454428 0.00038200617\n"
     ]
    },
    {
     "ename": "NameError",
     "evalue": "name 'sids' is not defined",
     "output_type": "error",
     "traceback": [
      "\u001b[0;31m---------------------------------------------------------------------------\u001b[0m",
      "\u001b[0;31mNameError\u001b[0m                                 Traceback (most recent call last)",
      "\u001b[0;32m<ipython-input-45-e1bb97e521c0>\u001b[0m in \u001b[0;36m<module>\u001b[0;34m\u001b[0m\n\u001b[1;32m     10\u001b[0m                                    \u001b[0mmax_change_num_or_ratio\u001b[0m\u001b[0;34m=\u001b[0m\u001b[0;36m0.25\u001b[0m\u001b[0;34m,\u001b[0m\u001b[0;34m\u001b[0m\u001b[0;34m\u001b[0m\u001b[0m\n\u001b[1;32m     11\u001b[0m                                    \u001b[0mmeasure\u001b[0m\u001b[0;34m=\u001b[0m\u001b[0;34m'euc'\u001b[0m\u001b[0;34m,\u001b[0m\u001b[0;34m\u001b[0m\u001b[0;34m\u001b[0m\u001b[0m\n\u001b[0;32m---> 12\u001b[0;31m                                    \u001b[0mtopk\u001b[0m\u001b[0;34m=\u001b[0m\u001b[0;36m300\u001b[0m\u001b[0;34m,\u001b[0m\u001b[0;34m\u001b[0m\u001b[0;34m\u001b[0m\u001b[0m\n\u001b[0m\u001b[1;32m     13\u001b[0m \u001b[0;31m#                                                    search_num=256\u001b[0m\u001b[0;34m\u001b[0m\u001b[0;34m\u001b[0m\u001b[0;34m\u001b[0m\u001b[0m\n\u001b[1;32m     14\u001b[0m                                   )\n",
      "\u001b[0;32m/opt/anaconda3/lib/python3.7/site-packages/torch/autograd/grad_mode.py\u001b[0m in \u001b[0;36mdecorate_no_grad\u001b[0;34m(*args, **kwargs)\u001b[0m\n\u001b[1;32m     47\u001b[0m         \u001b[0;32mdef\u001b[0m \u001b[0mdecorate_no_grad\u001b[0m\u001b[0;34m(\u001b[0m\u001b[0;34m*\u001b[0m\u001b[0margs\u001b[0m\u001b[0;34m,\u001b[0m \u001b[0;34m**\u001b[0m\u001b[0mkwargs\u001b[0m\u001b[0;34m)\u001b[0m\u001b[0;34m:\u001b[0m\u001b[0;34m\u001b[0m\u001b[0;34m\u001b[0m\u001b[0m\n\u001b[1;32m     48\u001b[0m             \u001b[0;32mwith\u001b[0m \u001b[0mself\u001b[0m\u001b[0;34m:\u001b[0m\u001b[0;34m\u001b[0m\u001b[0;34m\u001b[0m\u001b[0m\n\u001b[0;32m---> 49\u001b[0;31m                 \u001b[0;32mreturn\u001b[0m \u001b[0mfunc\u001b[0m\u001b[0;34m(\u001b[0m\u001b[0;34m*\u001b[0m\u001b[0margs\u001b[0m\u001b[0;34m,\u001b[0m \u001b[0;34m**\u001b[0m\u001b[0mkwargs\u001b[0m\u001b[0;34m)\u001b[0m\u001b[0;34m\u001b[0m\u001b[0;34m\u001b[0m\u001b[0m\n\u001b[0m\u001b[1;32m     50\u001b[0m         \u001b[0;32mreturn\u001b[0m \u001b[0mdecorate_no_grad\u001b[0m\u001b[0;34m\u001b[0m\u001b[0;34m\u001b[0m\u001b[0m\n\u001b[1;32m     51\u001b[0m \u001b[0;34m\u001b[0m\u001b[0m\n",
      "\u001b[0;32m~/frequency/allennlpx/interpret/attackers/pwws.py\u001b[0m in \u001b[0;36mattack_from_json\u001b[0;34m(self, inputs, field_to_change, field_to_attack, grad_input_field, ignore_tokens, forbidden_tokens, max_change_num_or_ratio, measure, topk, rho)\u001b[0m\n\u001b[1;32m     96\u001b[0m         \u001b[0mpwws_dct\u001b[0m \u001b[0;34m=\u001b[0m \u001b[0;34m{\u001b[0m\u001b[0;34m}\u001b[0m\u001b[0;34m\u001b[0m\u001b[0;34m\u001b[0m\u001b[0m\n\u001b[1;32m     97\u001b[0m         \u001b[0mtotal_exp\u001b[0m \u001b[0;34m=\u001b[0m \u001b[0;36m0\u001b[0m\u001b[0;34m\u001b[0m\u001b[0;34m\u001b[0m\u001b[0m\n\u001b[0;32m---> 98\u001b[0;31m         \u001b[0;32mfor\u001b[0m \u001b[0msid\u001b[0m \u001b[0;32min\u001b[0m \u001b[0msids\u001b[0m\u001b[0;34m:\u001b[0m\u001b[0;34m\u001b[0m\u001b[0;34m\u001b[0m\u001b[0m\n\u001b[0m\u001b[1;32m     99\u001b[0m             \u001b[0msali_dct\u001b[0m\u001b[0;34m[\u001b[0m\u001b[0msid\u001b[0m\u001b[0;34m]\u001b[0m \u001b[0;34m=\u001b[0m \u001b[0mnp\u001b[0m\u001b[0;34m.\u001b[0m\u001b[0mexp\u001b[0m\u001b[0;34m(\u001b[0m\u001b[0msali_dct\u001b[0m\u001b[0;34m[\u001b[0m\u001b[0msid\u001b[0m\u001b[0;34m]\u001b[0m\u001b[0;34m)\u001b[0m\u001b[0;34m\u001b[0m\u001b[0;34m\u001b[0m\u001b[0m\n\u001b[1;32m    100\u001b[0m             \u001b[0mtotal_exp\u001b[0m \u001b[0;34m+=\u001b[0m \u001b[0msali_dct\u001b[0m\u001b[0;34m[\u001b[0m\u001b[0msid\u001b[0m\u001b[0;34m]\u001b[0m\u001b[0;34m\u001b[0m\u001b[0;34m\u001b[0m\u001b[0m\n",
      "\u001b[0;31mNameError\u001b[0m: name 'sids' is not defined"
     ]
    }
   ],
   "source": [
    "from allennlpx.interpret.attackers.pwws import PWWS\n",
    "attacker = PWWS(task.predictor)\n",
    "attacker.initialize()\n",
    "sent = allenutil.as_sentence(task.dev_data[11])\n",
    "print(sent)\n",
    "result = attacker.attack_from_json({\"sent\": sent},\n",
    "                                   field_to_change=\"sent\",\n",
    "#                                    ignore_tokens=forbidden_words,\n",
    "#                                    forbidden_tokens=forbidden_words,\n",
    "                                   max_change_num_or_ratio=0.25,\n",
    "                                   measure='euc',\n",
    "                                   topk=300,\n",
    "#                                                    search_num=256\n",
    "                                  )"
   ]
  }
 ],
 "metadata": {
  "kernelspec": {
   "display_name": "Python 3",
   "language": "python",
   "name": "python3"
  },
  "language_info": {
   "codemirror_mode": {
    "name": "ipython",
    "version": 3
   },
   "file_extension": ".py",
   "mimetype": "text/x-python",
   "name": "python",
   "nbconvert_exporter": "python",
   "pygments_lexer": "ipython3",
   "version": "3.7.3"
  }
 },
 "nbformat": 4,
 "nbformat_minor": 4
}
