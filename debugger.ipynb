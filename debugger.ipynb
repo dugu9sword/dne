{
 "cells": [
  {
   "cell_type": "code",
   "execution_count": 11,
   "metadata": {},
   "outputs": [
    {
     "name": "stdout",
     "output_type": "stream",
     "text": [
      "The autoreload extension is already loaded. To reload it, use:\n",
      "  %reload_ext autoreload\n",
      "The snoop extension is already loaded. To reload it, use:\n",
      "  %reload_ext snoop\n"
     ]
    }
   ],
   "source": [
    "%load_ext autoreload\n",
    "%autoreload 2\n",
    "%load_ext snoop\n",
    "\n",
    "import itertools\n",
    "import pandas\n",
    "import csv\n",
    "import torch\n",
    "import numpy as np\n",
    "from sklearn.manifold import TSNE\n",
    "from matplotlib import pyplot as plt\n",
    "# from allennlp.data.token_indexers.bert_tokenizers import PretrainedBertIndexer\n",
    "\n",
    "from awesome_glue.task import Task\n",
    "from awesome_glue.utils import AttackMetric\n",
    "from awesome_glue.config import Config\n",
    "\n",
    "from luna import ram_write, chunks\n",
    "from allennlpx import allenutil\n",
    "\n",
    "from luna import ram_read\n",
    "\n",
    "from allennlpx.interpret.attackers.embedding_searcher import EmbeddingSearcher\n",
    "\n",
    "from collections import Counter, defaultdict\n",
    "from tqdm import tqdm\n",
    "\n",
    "from copy import deepcopy\n",
    "from typing import List\n",
    "\n",
    "import numpy\n",
    "import torch\n",
    "import numpy as np\n",
    "from allennlp.common.util import JsonDict, sanitize\n",
    "from allennlp.data.fields import TextField\n",
    "from allennlp.data.token_indexers import ELMoTokenCharactersIndexer, TokenCharactersIndexer\n",
    "from allennlp.data.tokenizers import Token\n",
    "from allennlp.modules.text_field_embedders.text_field_embedder import TextFieldEmbedder\n",
    "from allennlp.modules.token_embedders import Embedding\n",
    "from luna import cast_list, lazy_property\n",
    "from allennlp.data.vocabulary import Vocabulary, DEFAULT_OOV_TOKEN\n",
    "\n",
    "from allennlpx.interpret.attackers.attacker import Attacker, DEFAULT_IGNORE_TOKENS\n",
    "from allennlpx.interpret.attackers.embedding_searcher import EmbeddingSearcher\n",
    "from allennlpx import allenutil\n",
    "from itertools import product\n",
    "from collections import defaultdict\n",
    "import random\n",
    "\n",
    "from functools import lru_cache\n",
    "from allennlp.data.tokenizers import SpacyTokenizer\n",
    "from luna import time_record"
   ]
  },
  {
   "cell_type": "code",
   "execution_count": 8,
   "metadata": {},
   "outputs": [
    {
     "name": "stdout",
     "output_type": "stream",
     "text": [
      "cache for SST-spacy exists\n",
      "*** load SST-spacy from cache cost 2.5 seconds\n",
      "cache for 2f2a46e51336b27a7262689b00016955 exists\n",
      "*** load 2f2a46e51336b27a7262689b00016955 from cache cost 0.0124 seconds\n",
      "Restore model from checkpoint saved/models/SST-lstm-glove@0.ckpt.\n"
     ]
    },
    {
     "data": {
      "text/plain": [
       "Basic Args:\n",
       "\t--task_id=SST\n",
       "\t--finetunable=True\n",
       "\t--arch=lstm\n",
       "\t--pretrain=glove\n",
       "\t--_model_name=SST-lstm-glove\n",
       "\t--mode=attack\n",
       "\t--adv_data=nogit/SST-bert.adv.tsv\n",
       "\t--aug_data=\n",
       "\t--attack_vectors=glove\n",
       "\t--attack_data_split=dev\n",
       "\t--attack_size=100\n",
       "\t--attack_gen_aug=False\n",
       "\t--attack_gen_adv=False\n",
       "\t--alchemist=False\n",
       "\t--seed=2\n",
       "Deduced Args:\n",
       "\t--model_name=SST-lstm-glove\n",
       "\t--tokenizer=spacy"
      ]
     },
     "execution_count": 8,
     "metadata": {},
     "output_type": "execute_result"
    }
   ],
   "source": [
    "config = Config()\n",
    "# config.finetunable=True\n",
    "task = Task(config) # type: Task\n",
    "task.from_pretrained()\n",
    "config"
   ]
  },
  {
   "cell_type": "code",
   "execution_count": null,
   "metadata": {},
   "outputs": [],
   "source": [
    "task.vocab.get_index_to_token_vocabulary().values()"
   ]
  },
  {
   "cell_type": "code",
   "execution_count": 77,
   "metadata": {},
   "outputs": [
    {
     "name": "stdout",
     "output_type": "stream",
     "text": [
      "La() La2(rank='2,', suit2='1')\n"
     ]
    },
    {
     "data": {
      "text/plain": [
       "True"
      ]
     },
     "execution_count": 77,
     "metadata": {},
     "output_type": "execute_result"
    }
   ],
   "source": [
    "from dataclasses import dataclass\n",
    "\n",
    "@dataclass\n",
    "class La:\n",
    "    pass\n",
    "        \n",
    "@dataclass\n",
    "class La2(La):\n",
    "    rank: str\n",
    "    suit2: str\n",
    "        \n",
    "\n",
    "x = La()\n",
    "y = La2(\"2,\", \"1\")\n",
    "print(x, y)\n",
    "isinstance(y, La)"
   ]
  },
  {
   "cell_type": "code",
   "execution_count": 64,
   "metadata": {},
   "outputs": [
    {
     "name": "stdout",
     "output_type": "stream",
     "text": [
      "the emotions are raw and will strike a nerve with anyone who 's ever had family trauma .\n",
      "{'logits': [-1.4450730085372925, 1.5022544860839844], 'probs': [0.04986296594142914, 0.9501370787620544]} \n",
      "\n",
      "1 emotions emotion -0.0031312704 -0.005826175\n",
      "2 are exist 0.3140344 -0.013517439\n",
      "3 raw rude 0.8009925 -0.010275245\n",
      "5 will leave 0.019747853 -0.014440477\n",
      "6 strike assume 0.5191475 -0.03238195\n",
      "7 a amp 0.11465877 -0.019205809\n",
      "8 nerve spunk 0.031820893 -0.016161263\n",
      "13 ever ever 0.0 -0.010089338\n",
      "14 had sustain 0.03057003 -0.009660423\n",
      "15 family category 0.032264113 -0.0156852\n",
      "16 trauma hurt 0.04008025 -0.019684553\n",
      "{'adv': ['the', 'emotions', 'are', 'rude', 'and', 'will', 'strike', 'a', 'nerve', 'with', 'anyone', 'who', \"'s\", 'ever', 'had', 'family', 'trauma', '.'], 'raw': ['the', 'emotions', 'are', 'raw', 'and', 'will', 'strike', 'a', 'nerve', 'with', 'anyone', 'who', \"'s\", 'ever', 'had', 'family', 'trauma', '.'], 'outputs': {'logits': [0.8706834316253662, -0.8706427812576294], 'probs': [0.8508554697036743, 0.14914457499980927]}, 'success': 1}\n",
      "the emotions are raw and will strike a nerve with anyone who 's ever had family trauma .\n",
      "the emotions are rude and will strike a nerve with anyone who 's ever had family trauma .\n"
     ]
    }
   ],
   "source": [
    "from allennlpx.interpret.attackers.pwws import PWWS\n",
    "attacker = PWWS(task.predictor)\n",
    "attacker.initialize()\n",
    "sent = allenutil.as_sentence(task.dev_data[15])\n",
    "print(sent)\n",
    "print(task.predictor.predict(sent), '\\n')\n",
    "result = attacker.attack_from_json({\"sent\": sent},\n",
    "                                   field_to_change=\"sent\",\n",
    "#                                    ignore_tokens=forbidden_words,\n",
    "#                                    forbidden_tokens=forbidden_words,\n",
    "                                   max_change_num_or_ratio=0.25,\n",
    "                                   measure='euc',\n",
    "                                   topk=300,\n",
    "#                                                    search_num=256\n",
    "                                  )\n",
    "print(result)\n",
    "print(allenutil.as_sentence(result['raw']))\n",
    "print(allenutil.as_sentence(result['adv']))"
   ]
  }
 ],
 "metadata": {
  "kernelspec": {
   "display_name": "Python 3",
   "language": "python",
   "name": "python3"
  },
  "language_info": {
   "codemirror_mode": {
    "name": "ipython",
    "version": 3
   },
   "file_extension": ".py",
   "mimetype": "text/x-python",
   "name": "python",
   "nbconvert_exporter": "python",
   "pygments_lexer": "ipython3",
   "version": "3.7.3"
  }
 },
 "nbformat": 4,
 "nbformat_minor": 4
}
