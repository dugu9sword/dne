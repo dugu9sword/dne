{
 "cells": [
  {
   "cell_type": "code",
   "execution_count": 48,
   "metadata": {},
   "outputs": [],
   "source": [
    "import pandas\n",
    "from tqdm import tqdm\n",
    "df = pandas.read_csv('nogit/IMDB-lstm.hotflip.adv.tsv', '\\t')\n",
    "\n",
    "sents = df.iloc[:, 1].tolist()\n",
    "out = open('/home/zhouyi/fsgec/out/data_raw/test.src-tgt.src.old', 'w')\n",
    "for sent in sents:\n",
    "    out.write(sent+'\\n')\n",
    "out.close()"
   ]
  },
  {
   "cell_type": "code",
   "execution_count": 51,
   "metadata": {},
   "outputs": [],
   "source": [
    "dae_raws = open('/home/zhouyi/fsgec/out/result/raw.txt').readlines()\n",
    "dae_advs = open('/home/zhouyi/fsgec/out/result/adv.txt').readlines()\n",
    "\n",
    "out = open('nogit/IMDB-lstm.hotflip.adv.dae.tsv', 'w')\n",
    "out.write('raw\\tadv\\tlabel\\n')\n",
    "dae_idx = -1\n",
    "for i in range(df.shape[0]):\n",
    "    if i in [359, 293, 52]:\n",
    "        continue\n",
    "    else:\n",
    "        dae_idx += 1\n",
    "    out.write(f'{dae_raws[dae_idx][:-1]}\\t{dae_advs[dae_idx][:-1]}\\t{df.iloc[i, 2]}\\n')\n",
    "out.close()"
   ]
  },
  {
   "cell_type": "code",
   "execution_count": 52,
   "metadata": {},
   "outputs": [
    {
     "data": {
      "text/plain": [
       "400"
      ]
     },
     "execution_count": 52,
     "metadata": {},
     "output_type": "execute_result"
    }
   ],
   "source": [
    "len(sents)"
   ]
  },
  {
   "cell_type": "code",
   "execution_count": 6,
   "metadata": {},
   "outputs": [
    {
     "name": "stdout",
     "output_type": "stream",
     "text": [
      "The snoop extension is already loaded. To reload it, use:\n",
      "  %reload_ext snoop\n"
     ]
    }
   ],
   "source": [
    "%load_ext snoop\n",
    "import snoop\n",
    "snoop.install(color=True)"
   ]
  },
  {
   "cell_type": "code",
   "execution_count": 9,
   "metadata": {},
   "outputs": [
    {
     "name": "stderr",
     "output_type": "stream",
     "text": [
      "\u001b[38;5;242m08:56:11.41 \u001b[0m...... dae_raws = [\u001b[38;5;186m'\u001b[39m\u001b[38;5;186munflinchingly bleak and desperate .\u001b[39m\u001b[38;5;141m\\n\u001b[39m\u001b[38;5;186m'\u001b[39m, \u001b[38;5;186m'\u001b[39m\u001b[38;5;186mThis allows us to hope that nolan is poised to e...career as a commercial yet inventive filmmaker .\u001b[39m\u001b[38;5;141m\\n\u001b[39m\u001b[38;5;186m'\u001b[39m, \u001b[38;5;186m\"\u001b[39m\u001b[38;5;186mThe acting , costumes , music , cinematography a...nding given the production \u001b[39m\u001b[38;5;186m'\u001b[39m\u001b[38;5;186m s austere locales .\u001b[39m\u001b[38;5;141m\\n\u001b[39m\u001b[38;5;186m\"\u001b[39m, \u001b[38;5;197m.\u001b[39m\u001b[38;5;197m.\u001b[39m\u001b[38;5;197m.\u001b[39m, \u001b[38;5;186m'\u001b[39m\u001b[38;5;186mBut despite its title , punch - drunk love is never heavy handed .\u001b[39m\u001b[38;5;141m\\n\u001b[39m\u001b[38;5;186m'\u001b[39m, \u001b[38;5;186m\"\u001b[39m\u001b[38;5;186mBut if director michael dowse only superficially...aracters , he does n \u001b[39m\u001b[38;5;186m'\u001b[39m\u001b[38;5;186m t hold them in contempt .\u001b[39m\u001b[38;5;141m\\n\u001b[39m\u001b[38;5;186m\"\u001b[39m, \u001b[38;5;186m\"\u001b[39m\u001b[38;5;186mBut it \u001b[39m\u001b[38;5;186m'\u001b[39m\u001b[38;5;186m s refreshing to see a girl in a movie that does n \u001b[39m\u001b[38;5;186m'\u001b[39m\u001b[38;5;186m t feel it has to prove anything .\u001b[39m\u001b[38;5;141m\\n\u001b[39m\u001b[38;5;186m\"\u001b[39m]\n",
      "\u001b[38;5;242m08:56:11.41 \u001b[0m...... len(dae_raws) = \u001b[38;5;141m400\u001b[39m\n",
      "\u001b[38;5;242m08:56:11.41 \u001b[0m\u001b[38;5;242m   1\u001b[0m | dae_raws \u001b[38;5;197m=\u001b[39m open(\u001b[38;5;186m'\u001b[39m\u001b[38;5;186m/home/zhouyi/fsgec/out/result/raw.txt\u001b[39m\u001b[38;5;186m'\u001b[39m)\u001b[38;5;197m.\u001b[39mreadlines()\n"
     ]
    }
   ],
   "source": [
    "%%snoop\n",
    "dae_raws = open('/home/zhouyi/fsgec/out/result/raw.txt').readlines()"
   ]
  }
 ],
 "metadata": {
  "kernelspec": {
   "display_name": "Python 3",
   "language": "python",
   "name": "python3"
  },
  "language_info": {
   "codemirror_mode": {
    "name": "ipython",
    "version": 3
   },
   "file_extension": ".py",
   "mimetype": "text/x-python",
   "name": "python",
   "nbconvert_exporter": "python",
   "pygments_lexer": "ipython3",
   "version": "3.7.3"
  }
 },
 "nbformat": 4,
 "nbformat_minor": 4
}
