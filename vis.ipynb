{
 "cells": [
  {
   "cell_type": "code",
   "execution_count": 2,
   "metadata": {},
   "outputs": [],
   "source": [
    "import itertools\n",
    "\n",
    "import torch\n",
    "import torch.optim as optim\n",
    "from allennlp.data.dataset_readers.seq2seq import Seq2SeqDatasetReader\n",
    "from allennlp.data.iterators import BucketIterator\n",
    "from allennlp.data.token_indexers import SingleIdTokenIndexer\n",
    "from allennlp.data.tokenizers.character_tokenizer import CharacterTokenizer\n",
    "from allennlp.data.tokenizers.word_tokenizer import WordTokenizer\n",
    "from allennlp.data.vocabulary import Vocabulary\n",
    "from allennlp.nn.activations import Activation\n",
    "from allennlp.models.encoder_decoders.simple_seq2seq import SimpleSeq2Seq\n",
    "from allennlp.modules.attention import LinearAttention, BilinearAttention, DotProductAttention\n",
    "from allennlp.modules.seq2seq_encoders import PytorchSeq2SeqWrapper, StackedSelfAttentionEncoder\n",
    "from allennlp.modules.text_field_embedders import BasicTextFieldEmbedder\n",
    "from allennlp.modules.token_embedders import Embedding\n",
    "from allennlp.predictors import Seq2SeqPredictor\n",
    "from allennlp.training.trainer import Trainer\n",
    "from allennlp.data.dataset_readers.stanford_sentiment_tree_bank import StanfordSentimentTreeBankDatasetReader\n",
    "import hashlib\n",
    "from luna import auto_create, load_var, log, log_config\n",
    "import pathlib\n",
    "from allennlp.modules.token_embedders import Embedding, TokenEmbedder\n",
    "from allennlp.modules.token_embedders.embedding import \\\n",
    "    _read_pretrained_embeddings_file\n",
    "from sst_model import LstmClassifier\n",
    "from allennlpx import allenutil\n",
    "from allennlpx.predictors.text_classifier import TextClassifierPredictor\n",
    "from allennlp.modules.seq2seq_decoders import AutoRegressiveSeqDecoder, LstmCellDecoderNet\n",
    "from allennlp.modules.seq2seq_encoders import StackedBidirectionalLstm\n",
    "from allennlp.models import ComposedSeq2Seq\n",
    "from luna import load_model\n",
    "from luna import chunks"
   ]
  },
  {
   "cell_type": "code",
   "execution_count": 3,
   "metadata": {},
   "outputs": [
    {
     "name": "stdout",
     "output_type": "stream",
     "text": [
      "cache for sst_data exists\n",
      "*** load sst_data from cache cost 3.48 seconds\n",
      "cache for 1f6255ebb41db9818f808b914b264246 exists\n",
      "*** load 1f6255ebb41db9818f808b914b264246 from cache cost 0.0424 seconds\n",
      "Restore model from checkpoint saved/models/sst_model@0.ckpt.\n"
     ]
    },
    {
     "data": {
      "text/plain": [
       "LstmClassifier(\n",
       "  (word_embedders): BasicTextFieldEmbedder(\n",
       "    (token_embedder_tokens): Embedding()\n",
       "  )\n",
       "  (encoder): PytorchSeq2VecWrapper(\n",
       "    (_module): LSTM(300, 512, num_layers=2, batch_first=True)\n",
       "  )\n",
       "  (linear): Sequential(\n",
       "    (0): Linear(in_features=512, out_features=2, bias=True)\n",
       "  )\n",
       "  (loss_function): CrossEntropyLoss()\n",
       ")"
      ]
     },
     "execution_count": 3,
     "metadata": {},
     "output_type": "execute_result"
    }
   ],
   "source": [
    "sub_reader = StanfordSentimentTreeBankDatasetReader(token_indexers={\"tokens\": SingleIdTokenIndexer(lowercase_tokens=True)},\n",
    "                                                    granularity='2-class',\n",
    "                                                    use_subtrees=True)\n",
    "reader = StanfordSentimentTreeBankDatasetReader(token_indexers={\"tokens\": SingleIdTokenIndexer(lowercase_tokens=True)},\n",
    "                                                granularity='2-class')\n",
    "\n",
    "\n",
    "def load_data():\n",
    "    sub_train_data = sub_reader.read(\n",
    "        'https://s3-us-west-2.amazonaws.com/allennlp/datasets/sst/train.txt')\n",
    "    train_data = reader.read('https://s3-us-west-2.amazonaws.com/allennlp/datasets/sst/train.txt')\n",
    "    dev_data = reader.read('https://s3-us-west-2.amazonaws.com/allennlp/datasets/sst/dev.txt')\n",
    "    test_data = reader.read('https://s3-us-west-2.amazonaws.com/allennlp/datasets/sst/test.txt')\n",
    "    return sub_train_data, train_data, dev_data, test_data\n",
    "\n",
    "sub_train_data, train_data, dev_data, test_data = auto_create(\"sst_data\", load_data, True)\n",
    "\n",
    "vocab=load_var(\"sst_vocab\")\n",
    "sst_clf = LstmClassifier(vocab, pretrain=\"fasttext\")\n",
    "load_model(sst_clf, \"sst_model\")\n",
    "sst_predictor = TextClassifierPredictor(sst_clf, reader)\n",
    "sst_clf.eval()"
   ]
  },
  {
   "cell_type": "code",
   "execution_count": 4,
   "metadata": {},
   "outputs": [
    {
     "name": "stderr",
     "output_type": "stream",
     "text": [
      "Encountered the loss key in the model's return dictionary which couldn't be split by the batch size. Key will be ignored.\n"
     ]
    }
   ],
   "source": [
    "with torch.no_grad():\n",
    "    sent_embeds = []\n",
    "    sent_preds = []\n",
    "    sent_labels = []\n",
    "    for instances in chunks(train_data, 500):\n",
    "        with sst_predictor.capture_model_internals() as internals:\n",
    "            outputs = sst_predictor.predict_batch_instance(instances)\n",
    "        for k in internals.keys():\n",
    "            if \"PytorchSeq2VecWrapper\" in internals[k]['name']:\n",
    "                sent_embeds.append(internals[k]['output'])\n",
    "        for i, ele in enumerate(outputs):\n",
    "            sent_preds.append(ele['probs'][vocab.get_token_index('0', 'labels')] > ele['probs'][vocab.get_token_index('1', 'labels')])\n",
    "        for instance in instances:\n",
    "            sent_labels.append(instance.fields['label'].label == '0')\n",
    "    sent_embeds = torch.cat(sent_embeds, dim=0)\n",
    "\n"
   ]
  },
  {
   "cell_type": "code",
   "execution_count": 9,
   "metadata": {},
   "outputs": [
    {
     "data": {
      "text/plain": [
       "(6920, 2)"
      ]
     },
     "execution_count": 9,
     "metadata": {},
     "output_type": "execute_result"
    }
   ],
   "source": [
    "import numpy as np\n",
    "from sklearn.manifold import TSNE\n",
    "# from tsnecuda import TSNE\n",
    "# X_embedded = TSNE(n_components=2, perplexity=15, learning_rate=10).fit_transform(X)\n",
    "X = sent_embeds.cpu().numpy()\n",
    "X_embedded = TSNE(n_components=2).fit_transform(X)\n",
    "X_embedded.shape"
   ]
  },
  {
   "cell_type": "code",
   "execution_count": 113,
   "metadata": {},
   "outputs": [
    {
     "data": {
      "text/plain": [
       "<matplotlib.collections.PathCollection at 0x7f40ab957ef0>"
      ]
     },
     "execution_count": 113,
     "metadata": {},
     "output_type": "execute_result"
    },
    {
     "data": {
      "image/png": "[encoded data removed]",
      "text/plain": [
       "<Figure size 432x288 with 1 Axes>"
      ]
     },
     "metadata": {
      "needs_background": "light"
     },
     "output_type": "display_data"
    }
   ],
   "source": [
    "from matplotlib import pyplot as plt\n",
    "plt.scatter(X_embedded[:, 0][np.array(sent_labels)], X_embedded[:, 1][np.array(sent_labels)], c='r')\n",
    "plt.scatter(X_embedded[:, 0][~np.array(sent_labels)], X_embedded[:, 1][~np.array(sent_labels)], c='g')"
   ]
  },
  {
   "cell_type": "code",
   "execution_count": 114,
   "metadata": {},
   "outputs": [
    {
     "data": {
      "text/plain": [
       "<matplotlib.collections.PathCollection at 0x7f40ab650c50>"
      ]
     },
     "execution_count": 114,
     "metadata": {},
     "output_type": "execute_result"
    },
    {
     "data": {
      "image/png": "[encoded data removed]",
      "text/plain": [
       "<Figure size 432x288 with 1 Axes>"
      ]
     },
     "metadata": {
      "needs_background": "light"
     },
     "output_type": "display_data"
    }
   ],
   "source": [
    "plt.scatter(X_embedded[:, 0][~np.array(sent_preds)], X_embedded[:, 1][~np.array(sent_preds)], c='g')\n",
    "plt.scatter(X_embedded[:, 0][np.array(sent_preds)], X_embedded[:, 1][np.array(sent_preds)], c='r')"
   ]
  },
  {
   "cell_type": "code",
   "execution_count": 101,
   "metadata": {},
   "outputs": [
    {
     "name": "stdout",
     "output_type": "stream",
     "text": [
      "33 78 0.4230769230769231\n"
     ]
    }
   ],
   "source": [
    "total_num = 0\n",
    "succ_num = 0\n",
    "for i in range(len(X_embedded)):\n",
    "    if -3 < X_embedded[i][0] < 3:\n",
    "        label = test_data[i].fields['label'].label == '0'\n",
    "        total_num += 1\n",
    "        if label == sent_preds[i]:\n",
    "            succ_num += 1\n",
    "            \n",
    "#         print(i)\n",
    "#         print(allenutil.as_sentence(test_data[i]))\n",
    "#         print('label: ', label)\n",
    "#         print('pred:  ', sent_preds[i])\n",
    "        \n",
    "print(succ_num, total_num, succ_num/total_num)\n",
    "            "
   ]
  },
  {
   "cell_type": "code",
   "execution_count": 96,
   "metadata": {},
   "outputs": [
    {
     "data": {
      "text/plain": [
       "0"
      ]
     },
     "execution_count": 96,
     "metadata": {},
     "output_type": "execute_result"
    }
   ],
   "source": [
    "vocab.get_token_index('1', 'labels')"
   ]
  }
 ],
 "metadata": {
  "kernelspec": {
   "display_name": "Python 3",
   "language": "python",
   "name": "python3"
  },
  "language_info": {
   "codemirror_mode": {
    "name": "ipython",
    "version": 3
   },
   "file_extension": ".py",
   "mimetype": "text/x-python",
   "name": "python",
   "nbconvert_exporter": "python",
   "pygments_lexer": "ipython3",
   "version": "3.7.3"
  }
 },
 "nbformat": 4,
 "nbformat_minor": 4
}
