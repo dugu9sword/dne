{
 "cells": [
  {
   "cell_type": "markdown",
   "metadata": {},
   "source": [
    "The code is used to extract texts from a data set."
   ]
  },
  {
   "cell_type": "code",
   "execution_count": 1,
   "metadata": {},
   "outputs": [
    {
     "name": "stderr",
     "output_type": "stream",
     "text": [
      "I0320 07:47:55.782798 140683886421824 file_utils.py:38] PyTorch version 1.4.0 available.\n"
     ]
    }
   ],
   "source": [
    "# %reset\n",
    "import pandas\n",
    "import csv\n",
    "from allennlp.data.tokenizers import SpacyTokenizer\n",
    "# from nltk.tokenize import word_tokenize\n",
    "\n",
    "data_file = 'datasets/agnews/dev.tsv'\n",
    "target_path = 'fsgec/agnews/valid.txt'\n",
    "noise_times = 10\n",
    "\n",
    "df = pandas.read_csv(data_file, sep='\\t', quoting=csv.QUOTE_NONE)\n",
    "df = df['sentence']\n",
    "f = open(target_path, 'w')\n",
    "for line in df:\n",
    "    f.write(line + '\\n')\n",
    "f.close()"
   ]
  },
  {
   "cell_type": "markdown",
   "metadata": {},
   "source": [
    "The code is used to convert an attack logs to augmented data."
   ]
  },
  {
   "cell_type": "code",
   "execution_count": null,
   "metadata": {},
   "outputs": [],
   "source": [
    "import pandas\n",
    "df = pandas.read_csv(\"nogit/AGNEWS-lstm.pwws.adv.tsv\", sep='\\t', quoting=csv.QUOTE_NONE)\n",
    "df = df.drop(columns='raw')\n",
    "df = df.rename(columns={\"adv\": \"sentence\"})\n",
    "df.to_csv(\"nogit/AGNEWS-lstm.pwws.aug.tsv\", index=False, sep='\\t', quoting=csv.QUOTE_NONE)"
   ]
  }
 ],
 "metadata": {
  "kernelspec": {
   "display_name": "Python 3",
   "language": "python",
   "name": "python3"
  },
  "language_info": {
   "codemirror_mode": {
    "name": "ipython",
    "version": 3
   },
   "file_extension": ".py",
   "mimetype": "text/x-python",
   "name": "python",
   "nbconvert_exporter": "python",
   "pygments_lexer": "ipython3",
   "version": "3.7.3"
  }
 },
 "nbformat": 4,
 "nbformat_minor": 4
}
