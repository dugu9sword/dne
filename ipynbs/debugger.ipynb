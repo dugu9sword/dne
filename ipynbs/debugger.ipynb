{
 "cells": [
  {
   "cell_type": "code",
   "execution_count": 1,
   "metadata": {},
   "outputs": [],
   "source": [
    "%load_ext autoreload\n",
    "%autoreload 2"
   ]
  },
  {
   "cell_type": "code",
   "execution_count": 20,
   "metadata": {},
   "outputs": [
    {
     "name": "stdout",
     "output_type": "stream",
     "text": [
      "The autoreload extension is already loaded. To reload it, use:\n",
      "  %reload_ext autoreload\n"
     ]
    },
    {
     "name": "stderr",
     "output_type": "stream",
     "text": [
      "I0319 16:24:00.207964 139878374930240 file_utils.py:38] PyTorch version 1.4.0 available.\n",
      "I0319 16:24:01.533295 139878374930240 modeling.py:230] Better speed can be achieved with apex installed from https://www.github.com/nvidia/apex .\n",
      "Loading faiss with AVX2 support.\n",
      "I0319 16:24:01.706631 139878374930240 modeling_bert.py:244] Better speed can be achieved with apex installed from https://www.github.com/nvidia/apex .\n"
     ]
    }
   ],
   "source": [
    "import os\n",
    "os.environ[\"TORCH_HOME\"] = '/disks/sdb/torch_home'\n",
    "\n",
    "\n",
    "%load_ext autoreload\n",
    "%autoreload 2\n",
    "%load_ext snoop\n",
    "\n",
    "\n",
    "import itertools\n",
    "import pandas\n",
    "import csv\n",
    "import torch\n",
    "import numpy as np\n",
    "from sklearn.manifold import TSNE\n",
    "from matplotlib import pyplot as plt\n",
    "# from allennlp.data.token_indexers.bert_tokenizers import PretrainedBertIndexer\n",
    "\n",
    "from awesome_glue.task import Task\n",
    "from awesome_glue.utils import AttackMetric\n",
    "from awesome_glue.config import Config\n",
    "\n",
    "from luna import ram_write, chunks\n",
    "from allennlpx import allenutil\n",
    "\n",
    "from luna import ram_read\n",
    "\n",
    "from allennlpx.interpret.attackers.embedding_searcher import EmbeddingSearcher\n",
    "\n",
    "from collections import Counter, defaultdict\n",
    "from tqdm import tqdm\n",
    "\n",
    "from copy import deepcopy\n",
    "from typing import List\n",
    "\n",
    "# pylint: disable=protected-access\n",
    "import random\n",
    "from collections import defaultdict\n",
    "from functools import lru_cache\n",
    "from itertools import product\n",
    "from typing import List\n",
    "\n",
    "import numpy as np\n",
    "import torch\n",
    "from allennlp.common.util import JsonDict, sanitize\n",
    "from allennlp.data.fields import TextField\n",
    "from allennlp.data.token_indexers import (ELMoTokenCharactersIndexer,\n",
    "                                          TokenCharactersIndexer)\n",
    "from allennlp.data.tokenizers import SpacyTokenizer, Token\n",
    "from allennlp.modules.text_field_embedders.text_field_embedder import \\\n",
    "    TextFieldEmbedder\n",
    "from allennlp.modules.token_embedders import Embedding\n",
    "\n",
    "from allennlpx import allenutil\n",
    "from allennlpx.interpret.attackers.attacker import (DEFAULT_IGNORE_TOKENS,\n",
    "                                                    Attacker)\n",
    "from allennlpx.interpret.attackers.embedding_searcher import EmbeddingSearcher\n",
    "from allennlpx.interpret.attackers.policies import (CandidatePolicy,\n",
    "                                                    EmbeddingPolicy,\n",
    "                                                    SynonymPolicy)\n",
    "from allennlpx.interpret.attackers.synonym_searcher import SynonymSearcher\n",
    "from luna import cast_list, lazy_property, time_record\n",
    "import copy"
   ]
  },
  {
   "cell_type": "code",
   "execution_count": 2,
   "metadata": {},
   "outputs": [
    {
     "name": "stdout",
     "output_type": "stream",
     "text": [
      "cache for SST-spacy exists\n",
      "*** load SST-spacy from cache cost 2.75 seconds\n",
      "cache for 2f2a46e51336b27a7262689b00016955 exists\n",
      "*** load 2f2a46e51336b27a7262689b00016955 from cache cost 0.0351 seconds\n",
      "Restore model from checkpoint saved/models/SST-lstm-glove@0.ckpt.\n"
     ]
    },
    {
     "data": {
      "text/plain": [
       "Basic Args:\n",
       "\t--task_id=SST\n",
       "\t--finetunable=True\n",
       "\t--arch=lstm\n",
       "\t--pretrain=glove\n",
       "\t--_model_name=SST-lstm-glove\n",
       "\t--mode=attack\n",
       "\t--adv_data=nogit/SST-bert.adv.tsv\n",
       "\t--aug_data=\n",
       "\t--attack_vectors=glove\n",
       "\t--attack_data_split=dev\n",
       "\t--attack_size=100\n",
       "\t--attack_gen_aug=False\n",
       "\t--attack_gen_adv=False\n",
       "\t--alchemist=False\n",
       "\t--seed=2\n",
       "Deduced Args:\n",
       "\t--model_name=SST-lstm-glove\n",
       "\t--tokenizer=spacy"
      ]
     },
     "execution_count": 2,
     "metadata": {},
     "output_type": "execute_result"
    }
   ],
   "source": [
    "config = Config()\n",
    "# config.finetunable=True\n",
    "task = Task(config) # type: Task\n",
    "task.from_pretrained()\n",
    "config"
   ]
  },
  {
   "cell_type": "code",
   "execution_count": 15,
   "metadata": {},
   "outputs": [],
   "source": [
    "from luna.registry import setup_registry\n",
    "register, R = setup_registry('transforms')"
   ]
  },
  {
   "cell_type": "code",
   "execution_count": 16,
   "metadata": {},
   "outputs": [],
   "source": [
    "@register('a')\n",
    "class A:\n",
    "    pass"
   ]
  },
  {
   "cell_type": "code",
   "execution_count": 18,
   "metadata": {},
   "outputs": [
    {
     "data": {
      "text/plain": [
       "<__main__.A at 0x7f37c394dc18>"
      ]
     },
     "execution_count": 18,
     "metadata": {},
     "output_type": "execute_result"
    }
   ],
   "source": [
    "R['a']()"
   ]
  },
  {
   "cell_type": "code",
   "execution_count": 24,
   "metadata": {},
   "outputs": [],
   "source": [
    "import inspect\n",
    "sig = inspect.signature(Task.__init__)\n"
   ]
  },
  {
   "cell_type": "code",
   "execution_count": 35,
   "metadata": {},
   "outputs": [
    {
     "data": {
      "text/plain": [
       "''"
      ]
     },
     "execution_count": 35,
     "metadata": {},
     "output_type": "execute_result"
    }
   ],
   "source": [
    "# import fastnumbers\n",
    "fastnumbers.fast_real('')"
   ]
  }
 ],
 "metadata": {
  "kernelspec": {
   "display_name": "Python 3",
   "language": "python",
   "name": "python3"
  },
  "language_info": {
   "codemirror_mode": {
    "name": "ipython",
    "version": 3
   },
   "file_extension": ".py",
   "mimetype": "text/x-python",
   "name": "python",
   "nbconvert_exporter": "python",
   "pygments_lexer": "ipython3",
   "version": "3.7.3"
  }
 },
 "nbformat": 4,
 "nbformat_minor": 4
}
