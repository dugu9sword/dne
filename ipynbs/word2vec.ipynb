{
 "cells": [
  {
   "cell_type": "code",
   "execution_count": 1,
   "metadata": {},
   "outputs": [
    {
     "name": "stderr",
     "output_type": "stream",
     "text": [
      "/opt/anaconda3/lib/python3.7/site-packages/ipykernel_launcher.py:8: FutureWarning: read_table is deprecated, use read_csv instead.\n",
      "  \n"
     ]
    }
   ],
   "source": [
    "import csv\n",
    "import pandas\n",
    "path = '/home/zhouyi/counter-fitting/word_vectors/counter-fitted-vectors.txt'\n",
    "words = pandas.read_table(path, sep=\" \", \n",
    "                          index_col=0,\n",
    "                          keep_default_na= False, # some word is \"null\"/\"nan\"\n",
    "                          header=None,\n",
    "                          quoting=csv.QUOTE_NONE)"
   ]
  },
  {
   "cell_type": "code",
   "execution_count": 2,
   "metadata": {},
   "outputs": [],
   "source": [
    "word_list = words.index.tolist()\n",
    "idx2word = {idx: word for idx, word in enumerate(word_list)}\n",
    "word2idx = {word: idx for idx, word in enumerate(word_list)}"
   ]
  },
  {
   "cell_type": "code",
   "execution_count": 3,
   "metadata": {},
   "outputs": [],
   "source": [
    "from allennlpx.interpret.attackers.embedding_searcher import EmbeddingSearcher\n",
    "import torch\n",
    "searcher = EmbeddingSearcher(word2idx=lambda x: word2idx[x], \n",
    "                             idx2word=lambda x: idx2word[x],\n",
    "                             embed=torch.tensor(words.values).cuda())"
   ]
  },
  {
   "cell_type": "code",
   "execution_count": 13,
   "metadata": {},
   "outputs": [
    {
     "name": "stderr",
     "output_type": "stream",
     "text": [
      "100%|██████████| 65713/65713 [03:03<00:00, 358.11it/s]\n"
     ]
    }
   ],
   "source": [
    "from tqdm import tqdm\n",
    "f = open(\"euc-topk-30.txt\", 'w')\n",
    "for idx in tqdm(idx2word):\n",
    "    _, I = searcher.find_neighbours(idx, measure='euc', topk=30, rho=None)\n",
    "    nbrs = [idx2word[ele] for ele in I.cpu().numpy()]\n",
    "    f.write('\\t'.join(nbrs) + '\\n')\n",
    "f.close()"
   ]
  },
  {
   "cell_type": "code",
   "execution_count": 14,
   "metadata": {},
   "outputs": [],
   "source": [
    "nbrs = pandas.read_csv(\"euc-topk-30.txt\", sep=\"\\t\", \n",
    "                      index_col=0,\n",
    "                      keep_default_na= False, # some word is \"null\"/\"nan\"\n",
    "                      header=None,\n",
    "                      quoting=csv.QUOTE_NONE)"
   ]
  },
  {
   "cell_type": "code",
   "execution_count": 17,
   "metadata": {},
   "outputs": [
    {
     "data": {
      "text/plain": [
       "1              wah\n",
       "2              hwa\n",
       "3            chine\n",
       "4              hua\n",
       "5               wa\n",
       "6          chinese\n",
       "7        porcelain\n",
       "8             chin\n",
       "9              hoa\n",
       "10           chino\n",
       "11        chinamen\n",
       "12        chinaman\n",
       "13             jaw\n",
       "14        renminbi\n",
       "15             rmb\n",
       "16         beijing\n",
       "17          peking\n",
       "18         ceramic\n",
       "19        mandarin\n",
       "20         pottery\n",
       "21       cantonese\n",
       "22    shanghainese\n",
       "23        shenzhen\n",
       "24        ceramics\n",
       "25           ching\n",
       "26        shanghai\n",
       "27            zhen\n",
       "28          yunnan\n",
       "29        mainland\n",
       "Name: china, dtype: object"
      ]
     },
     "execution_count": 17,
     "metadata": {},
     "output_type": "execute_result"
    }
   ],
   "source": [
    "nbrs.loc['china']"
   ]
  },
  {
   "cell_type": "code",
   "execution_count": 35,
   "metadata": {},
   "outputs": [
    {
     "data": {
      "text/plain": [
       "True"
      ]
     },
     "execution_count": 35,
     "metadata": {},
     "output_type": "execute_result"
    }
   ],
   "source": [
    "'ha' in nbrs.index"
   ]
  }
 ],
 "metadata": {
  "kernelspec": {
   "display_name": "Python 3",
   "language": "python",
   "name": "python3"
  },
  "language_info": {
   "codemirror_mode": {
    "name": "ipython",
    "version": 3
   },
   "file_extension": ".py",
   "mimetype": "text/x-python",
   "name": "python",
   "nbconvert_exporter": "python",
   "pygments_lexer": "ipython3",
   "version": "3.7.3"
  }
 },
 "nbformat": 4,
 "nbformat_minor": 4
}
