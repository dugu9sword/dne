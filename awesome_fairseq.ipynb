{
 "cells": [
  {
   "cell_type": "code",
   "execution_count": 1,
   "metadata": {},
   "outputs": [
    {
     "name": "stderr",
     "output_type": "stream",
     "text": [
      "Using cache found in /disks/sdb/torch_home/hub/pytorch_fairseq_master\n",
      "Using cache found in /disks/sdb/torch_home/hub/pytorch_fairseq_master\n",
      "Using cache found in /disks/sdb/torch_home/hub/pytorch_fairseq_master\n"
     ]
    }
   ],
   "source": [
    "import torch\n",
    "import os\n",
    "\n",
    "os.environ[\"TORCH_HOME\"] = '/disks/sdb/torch_home'\n",
    "\n",
    "# List available models\n",
    "torch.hub.list('pytorch/fairseq', force_reload=False)  # [..., 'transformer.wmt18.en-de', ... ]\n",
    "\n",
    "# # Load the WMT'18 En-De ensemble\n",
    "en2z = torch.hub.load(\n",
    "    'pytorch/fairseq', 'transformer.wmt19.en-de',\n",
    "    checkpoint_file='model1.pt',\n",
    "    tokenizer='moses', bpe='fastbpe', verbose=True).cuda()\n",
    "\n",
    "z2en = torch.hub.load(\n",
    "    'pytorch/fairseq', 'transformer.wmt19.de-en',\n",
    "    checkpoint_file='model1.pt',\n",
    "    tokenizer='moses', bpe='fastbpe', verbose=True).cuda()\n",
    "\n",
    "# # Translate\n",
    "# en2de_ensemble.translate('Hello world!')\n",
    "# # 'Hallo Welt!'"
   ]
  },
  {
   "cell_type": "code",
   "execution_count": null,
   "metadata": {},
   "outputs": [],
   "source": [
    "torch.hub.list('pytorch/fairseq', force_reload=False)"
   ]
  },
  {
   "cell_type": "code",
   "execution_count": 2,
   "metadata": {},
   "outputs": [
    {
     "data": {
      "text/plain": [
       "GeneratorHubInterface(\n",
       "  (models): ModuleList(\n",
       "    (0): TransformerModel(\n",
       "      (encoder): TransformerEncoder(\n",
       "        (embed_tokens): Embedding(42024, 1024, padding_idx=1)\n",
       "        (embed_positions): SinusoidalPositionalEmbedding()\n",
       "        (layers): ModuleList(\n",
       "          (0): TransformerEncoderLayer(\n",
       "            (self_attn): MultiheadAttention(\n",
       "              (k_proj): Linear(in_features=1024, out_features=1024, bias=True)\n",
       "              (v_proj): Linear(in_features=1024, out_features=1024, bias=True)\n",
       "              (q_proj): Linear(in_features=1024, out_features=1024, bias=True)\n",
       "              (out_proj): Linear(in_features=1024, out_features=1024, bias=True)\n",
       "            )\n",
       "            (self_attn_layer_norm): LayerNorm((1024,), eps=1e-05, elementwise_affine=True)\n",
       "            (fc1): Linear(in_features=1024, out_features=8192, bias=True)\n",
       "            (fc2): Linear(in_features=8192, out_features=1024, bias=True)\n",
       "            (final_layer_norm): LayerNorm((1024,), eps=1e-05, elementwise_affine=True)\n",
       "          )\n",
       "          (1): TransformerEncoderLayer(\n",
       "            (self_attn): MultiheadAttention(\n",
       "              (k_proj): Linear(in_features=1024, out_features=1024, bias=True)\n",
       "              (v_proj): Linear(in_features=1024, out_features=1024, bias=True)\n",
       "              (q_proj): Linear(in_features=1024, out_features=1024, bias=True)\n",
       "              (out_proj): Linear(in_features=1024, out_features=1024, bias=True)\n",
       "            )\n",
       "            (self_attn_layer_norm): LayerNorm((1024,), eps=1e-05, elementwise_affine=True)\n",
       "            (fc1): Linear(in_features=1024, out_features=8192, bias=True)\n",
       "            (fc2): Linear(in_features=8192, out_features=1024, bias=True)\n",
       "            (final_layer_norm): LayerNorm((1024,), eps=1e-05, elementwise_affine=True)\n",
       "          )\n",
       "          (2): TransformerEncoderLayer(\n",
       "            (self_attn): MultiheadAttention(\n",
       "              (k_proj): Linear(in_features=1024, out_features=1024, bias=True)\n",
       "              (v_proj): Linear(in_features=1024, out_features=1024, bias=True)\n",
       "              (q_proj): Linear(in_features=1024, out_features=1024, bias=True)\n",
       "              (out_proj): Linear(in_features=1024, out_features=1024, bias=True)\n",
       "            )\n",
       "            (self_attn_layer_norm): LayerNorm((1024,), eps=1e-05, elementwise_affine=True)\n",
       "            (fc1): Linear(in_features=1024, out_features=8192, bias=True)\n",
       "            (fc2): Linear(in_features=8192, out_features=1024, bias=True)\n",
       "            (final_layer_norm): LayerNorm((1024,), eps=1e-05, elementwise_affine=True)\n",
       "          )\n",
       "          (3): TransformerEncoderLayer(\n",
       "            (self_attn): MultiheadAttention(\n",
       "              (k_proj): Linear(in_features=1024, out_features=1024, bias=True)\n",
       "              (v_proj): Linear(in_features=1024, out_features=1024, bias=True)\n",
       "              (q_proj): Linear(in_features=1024, out_features=1024, bias=True)\n",
       "              (out_proj): Linear(in_features=1024, out_features=1024, bias=True)\n",
       "            )\n",
       "            (self_attn_layer_norm): LayerNorm((1024,), eps=1e-05, elementwise_affine=True)\n",
       "            (fc1): Linear(in_features=1024, out_features=8192, bias=True)\n",
       "            (fc2): Linear(in_features=8192, out_features=1024, bias=True)\n",
       "            (final_layer_norm): LayerNorm((1024,), eps=1e-05, elementwise_affine=True)\n",
       "          )\n",
       "          (4): TransformerEncoderLayer(\n",
       "            (self_attn): MultiheadAttention(\n",
       "              (k_proj): Linear(in_features=1024, out_features=1024, bias=True)\n",
       "              (v_proj): Linear(in_features=1024, out_features=1024, bias=True)\n",
       "              (q_proj): Linear(in_features=1024, out_features=1024, bias=True)\n",
       "              (out_proj): Linear(in_features=1024, out_features=1024, bias=True)\n",
       "            )\n",
       "            (self_attn_layer_norm): LayerNorm((1024,), eps=1e-05, elementwise_affine=True)\n",
       "            (fc1): Linear(in_features=1024, out_features=8192, bias=True)\n",
       "            (fc2): Linear(in_features=8192, out_features=1024, bias=True)\n",
       "            (final_layer_norm): LayerNorm((1024,), eps=1e-05, elementwise_affine=True)\n",
       "          )\n",
       "          (5): TransformerEncoderLayer(\n",
       "            (self_attn): MultiheadAttention(\n",
       "              (k_proj): Linear(in_features=1024, out_features=1024, bias=True)\n",
       "              (v_proj): Linear(in_features=1024, out_features=1024, bias=True)\n",
       "              (q_proj): Linear(in_features=1024, out_features=1024, bias=True)\n",
       "              (out_proj): Linear(in_features=1024, out_features=1024, bias=True)\n",
       "            )\n",
       "            (self_attn_layer_norm): LayerNorm((1024,), eps=1e-05, elementwise_affine=True)\n",
       "            (fc1): Linear(in_features=1024, out_features=8192, bias=True)\n",
       "            (fc2): Linear(in_features=8192, out_features=1024, bias=True)\n",
       "            (final_layer_norm): LayerNorm((1024,), eps=1e-05, elementwise_affine=True)\n",
       "          )\n",
       "        )\n",
       "      )\n",
       "      (decoder): TransformerDecoder(\n",
       "        (embed_tokens): Embedding(42024, 1024, padding_idx=1)\n",
       "        (embed_positions): SinusoidalPositionalEmbedding()\n",
       "        (layers): ModuleList(\n",
       "          (0): TransformerDecoderLayer(\n",
       "            (self_attn): MultiheadAttention(\n",
       "              (k_proj): Linear(in_features=1024, out_features=1024, bias=True)\n",
       "              (v_proj): Linear(in_features=1024, out_features=1024, bias=True)\n",
       "              (q_proj): Linear(in_features=1024, out_features=1024, bias=True)\n",
       "              (out_proj): Linear(in_features=1024, out_features=1024, bias=True)\n",
       "            )\n",
       "            (self_attn_layer_norm): LayerNorm((1024,), eps=1e-05, elementwise_affine=True)\n",
       "            (encoder_attn): MultiheadAttention(\n",
       "              (k_proj): Linear(in_features=1024, out_features=1024, bias=True)\n",
       "              (v_proj): Linear(in_features=1024, out_features=1024, bias=True)\n",
       "              (q_proj): Linear(in_features=1024, out_features=1024, bias=True)\n",
       "              (out_proj): Linear(in_features=1024, out_features=1024, bias=True)\n",
       "            )\n",
       "            (encoder_attn_layer_norm): LayerNorm((1024,), eps=1e-05, elementwise_affine=True)\n",
       "            (fc1): Linear(in_features=1024, out_features=4096, bias=True)\n",
       "            (fc2): Linear(in_features=4096, out_features=1024, bias=True)\n",
       "            (final_layer_norm): LayerNorm((1024,), eps=1e-05, elementwise_affine=True)\n",
       "          )\n",
       "          (1): TransformerDecoderLayer(\n",
       "            (self_attn): MultiheadAttention(\n",
       "              (k_proj): Linear(in_features=1024, out_features=1024, bias=True)\n",
       "              (v_proj): Linear(in_features=1024, out_features=1024, bias=True)\n",
       "              (q_proj): Linear(in_features=1024, out_features=1024, bias=True)\n",
       "              (out_proj): Linear(in_features=1024, out_features=1024, bias=True)\n",
       "            )\n",
       "            (self_attn_layer_norm): LayerNorm((1024,), eps=1e-05, elementwise_affine=True)\n",
       "            (encoder_attn): MultiheadAttention(\n",
       "              (k_proj): Linear(in_features=1024, out_features=1024, bias=True)\n",
       "              (v_proj): Linear(in_features=1024, out_features=1024, bias=True)\n",
       "              (q_proj): Linear(in_features=1024, out_features=1024, bias=True)\n",
       "              (out_proj): Linear(in_features=1024, out_features=1024, bias=True)\n",
       "            )\n",
       "            (encoder_attn_layer_norm): LayerNorm((1024,), eps=1e-05, elementwise_affine=True)\n",
       "            (fc1): Linear(in_features=1024, out_features=4096, bias=True)\n",
       "            (fc2): Linear(in_features=4096, out_features=1024, bias=True)\n",
       "            (final_layer_norm): LayerNorm((1024,), eps=1e-05, elementwise_affine=True)\n",
       "          )\n",
       "          (2): TransformerDecoderLayer(\n",
       "            (self_attn): MultiheadAttention(\n",
       "              (k_proj): Linear(in_features=1024, out_features=1024, bias=True)\n",
       "              (v_proj): Linear(in_features=1024, out_features=1024, bias=True)\n",
       "              (q_proj): Linear(in_features=1024, out_features=1024, bias=True)\n",
       "              (out_proj): Linear(in_features=1024, out_features=1024, bias=True)\n",
       "            )\n",
       "            (self_attn_layer_norm): LayerNorm((1024,), eps=1e-05, elementwise_affine=True)\n",
       "            (encoder_attn): MultiheadAttention(\n",
       "              (k_proj): Linear(in_features=1024, out_features=1024, bias=True)\n",
       "              (v_proj): Linear(in_features=1024, out_features=1024, bias=True)\n",
       "              (q_proj): Linear(in_features=1024, out_features=1024, bias=True)\n",
       "              (out_proj): Linear(in_features=1024, out_features=1024, bias=True)\n",
       "            )\n",
       "            (encoder_attn_layer_norm): LayerNorm((1024,), eps=1e-05, elementwise_affine=True)\n",
       "            (fc1): Linear(in_features=1024, out_features=4096, bias=True)\n",
       "            (fc2): Linear(in_features=4096, out_features=1024, bias=True)\n",
       "            (final_layer_norm): LayerNorm((1024,), eps=1e-05, elementwise_affine=True)\n",
       "          )\n",
       "          (3): TransformerDecoderLayer(\n",
       "            (self_attn): MultiheadAttention(\n",
       "              (k_proj): Linear(in_features=1024, out_features=1024, bias=True)\n",
       "              (v_proj): Linear(in_features=1024, out_features=1024, bias=True)\n",
       "              (q_proj): Linear(in_features=1024, out_features=1024, bias=True)\n",
       "              (out_proj): Linear(in_features=1024, out_features=1024, bias=True)\n",
       "            )\n",
       "            (self_attn_layer_norm): LayerNorm((1024,), eps=1e-05, elementwise_affine=True)\n",
       "            (encoder_attn): MultiheadAttention(\n",
       "              (k_proj): Linear(in_features=1024, out_features=1024, bias=True)\n",
       "              (v_proj): Linear(in_features=1024, out_features=1024, bias=True)\n",
       "              (q_proj): Linear(in_features=1024, out_features=1024, bias=True)\n",
       "              (out_proj): Linear(in_features=1024, out_features=1024, bias=True)\n",
       "            )\n",
       "            (encoder_attn_layer_norm): LayerNorm((1024,), eps=1e-05, elementwise_affine=True)\n",
       "            (fc1): Linear(in_features=1024, out_features=4096, bias=True)\n",
       "            (fc2): Linear(in_features=4096, out_features=1024, bias=True)\n",
       "            (final_layer_norm): LayerNorm((1024,), eps=1e-05, elementwise_affine=True)\n",
       "          )\n",
       "          (4): TransformerDecoderLayer(\n",
       "            (self_attn): MultiheadAttention(\n",
       "              (k_proj): Linear(in_features=1024, out_features=1024, bias=True)\n",
       "              (v_proj): Linear(in_features=1024, out_features=1024, bias=True)\n",
       "              (q_proj): Linear(in_features=1024, out_features=1024, bias=True)\n",
       "              (out_proj): Linear(in_features=1024, out_features=1024, bias=True)\n",
       "            )\n",
       "            (self_attn_layer_norm): LayerNorm((1024,), eps=1e-05, elementwise_affine=True)\n",
       "            (encoder_attn): MultiheadAttention(\n",
       "              (k_proj): Linear(in_features=1024, out_features=1024, bias=True)\n",
       "              (v_proj): Linear(in_features=1024, out_features=1024, bias=True)\n",
       "              (q_proj): Linear(in_features=1024, out_features=1024, bias=True)\n",
       "              (out_proj): Linear(in_features=1024, out_features=1024, bias=True)\n",
       "            )\n",
       "            (encoder_attn_layer_norm): LayerNorm((1024,), eps=1e-05, elementwise_affine=True)\n",
       "            (fc1): Linear(in_features=1024, out_features=4096, bias=True)\n",
       "            (fc2): Linear(in_features=4096, out_features=1024, bias=True)\n",
       "            (final_layer_norm): LayerNorm((1024,), eps=1e-05, elementwise_affine=True)\n",
       "          )\n",
       "          (5): TransformerDecoderLayer(\n",
       "            (self_attn): MultiheadAttention(\n",
       "              (k_proj): Linear(in_features=1024, out_features=1024, bias=True)\n",
       "              (v_proj): Linear(in_features=1024, out_features=1024, bias=True)\n",
       "              (q_proj): Linear(in_features=1024, out_features=1024, bias=True)\n",
       "              (out_proj): Linear(in_features=1024, out_features=1024, bias=True)\n",
       "            )\n",
       "            (self_attn_layer_norm): LayerNorm((1024,), eps=1e-05, elementwise_affine=True)\n",
       "            (encoder_attn): MultiheadAttention(\n",
       "              (k_proj): Linear(in_features=1024, out_features=1024, bias=True)\n",
       "              (v_proj): Linear(in_features=1024, out_features=1024, bias=True)\n",
       "              (q_proj): Linear(in_features=1024, out_features=1024, bias=True)\n",
       "              (out_proj): Linear(in_features=1024, out_features=1024, bias=True)\n",
       "            )\n",
       "            (encoder_attn_layer_norm): LayerNorm((1024,), eps=1e-05, elementwise_affine=True)\n",
       "            (fc1): Linear(in_features=1024, out_features=4096, bias=True)\n",
       "            (fc2): Linear(in_features=4096, out_features=1024, bias=True)\n",
       "            (final_layer_norm): LayerNorm((1024,), eps=1e-05, elementwise_affine=True)\n",
       "          )\n",
       "        )\n",
       "      )\n",
       "    )\n",
       "  )\n",
       ")"
      ]
     },
     "execution_count": 2,
     "metadata": {},
     "output_type": "execute_result"
    }
   ],
   "source": [
    "en2z.eval()\n",
    "z2en.eval()\n",
    "# en2z.training"
   ]
  },
  {
   "cell_type": "code",
   "execution_count": 78,
   "metadata": {},
   "outputs": [
    {
     "data": {
      "text/plain": [
       "'Dieser Film verdient eine weitere schlechte Rezension. Man denke an einen Kritiker, der die Vorzüge des Films preist, zu denen \"kein Sex, keine Gewalt oder Gore\" gehört. Äh, entschuldigen Sie mich. Schon die Ausstattung des Films lässt uns zusehen, wie Codys junger Kamerad, der lebenslustig ist und für den es alles zu leben gibt, in Stücke gerissen wird und Cody seinen leblosen, blutigen Körper hält. Und angesichts der Natur des Krieges wissen wir, dass Cody fast täglich Horror erlebt hat. So viel für diejenigen, die diesen Film mit einer solchen rosafarbenen Brille sehen, dass die Gewalt, die Codys Persönlichkeit definiert, aus dem Gedächtnis des Zuschauers getilgt wird. Ohne jede Familie seiner eigenen Cody, wie John Rambo, durchstreift das Land auf seinem Fahrrad und macht die lange Wanderung in die Heimatstadt USA in Gestalt eines Ortes namens Nevada City. Keine Erwähnung, keine Erkenntnis der eindeutigen Tatsache, dass Cody beschädigte Güter ist.'"
      ]
     },
     "execution_count": 78,
     "metadata": {},
     "output_type": "execute_result"
    }
   ],
   "source": [
    "en2z.translate(\"This film deserves another bad review . Consider one reviewer extolling the film 's virtues that include ' no sex , violence or gore . ' Uh , excuse me . The very set - up of the film has us watching as Cody 's young comrade , with love of life and who has everything to live for is blown to bits leaving Cody holding his lifeless , bloody body . And , given the nature of war we know that Cody has seen horror on almost a daily basis . So much for those viewing this film with such rose glasses that the violence which defines Cody 's persona is erased from viewer memory . Sans any family of his own Cody , like John Rambo , roams the country on his bike making the long trek to hometown USA in the guise of some place called Nevada City . No mention , no realization of the clear fact that Cody is damaged goods . \", max_len_b=2048)"
   ]
  },
  {
   "cell_type": "code",
   "execution_count": 84,
   "metadata": {},
   "outputs": [
    {
     "data": {
      "text/plain": [
       "'The film deserves another bad review. Consider a critic who extols the virtues of the film that \"involve no sex, violence or gore.\" Er, excuse me. \"\" The very set-up of the film has watched us as Cody\\'s young comrade, with love of life and who has everything to live for, is blown to pieces Cody holding his lifeless, bloody body. And given the nature of the war, we know that Cody has seen horror on an almost daily basis. \"So much for those who see this movie with such rose-colored glasses that the violence that defines Cody\\'s persona is erased from the viewer\\'s memory.\" Sans every family of his own Cody, like John Rambo, roams the country on his bike to make the long journey to hometown USA in the guise of a place called Nevada City. \"'"
      ]
     },
     "execution_count": 84,
     "metadata": {},
     "output_type": "execute_result"
    }
   ],
   "source": [
    "z2en.translate(en2z.translate(\"This film deserves another bad review . Consider one reviewer extolling the film 's virtues that include ' no sex , violence or gore . ' Uh , excuse me . The very set - up of the film has us watching as Cody 's young comrade , with love of life and who has everything to live for is blown to bits leaving Cody holding his lifeless , bloody body . And , given the nature of war we know that Cody has seen horror on almost a daily basis . So much for those viewing this film with such rose glasses that the violence which defines Cody 's persona is erased from viewer memory . Sans any family of his own Cody , like John Rambo , roams the country on his bike making the long trek to hometown USA in the guise of some place called Nevada City . No mention , no realization of the clear fact that Cody is damaged goods . We know this since his CO practically declares him so as he order Cody to ' get some rest ' away from the death and destruction of war . This explains , as none seem to notice or care , Cody 's obvious ' flat ' effect . It is not bad acting . It is the flat effect of post traumatic stress disorder . Not guessing here , remember his CO ordered him off the battle field . How about that ' accidental ' kiss as noted by another review . The fall was an accident , the kiss was not . How exactly was Cody ' respecting ' Faith by hitting on her knowing full well she was spoken for ? Now that was a non - family value moment . A moment which is then announced to the immediate universe as if posted on YouTube . Of course faith 's lapse of fidelity as well as Cody 's ' coming on ' to a woman who plans to marry another is received in the spirit of the Xmas season , all CHEERING their cheaten ' hearts and lips . We know little about Faith 's fianc except that she professes her love for him , she takes no longer than a nano second to accept his proposal ( could have waited if any second thoughts ) , he is generous , he loves her to death , the family has nothing really against him , he believes marriage is based on compromises and the two have never discussed post marriage plans . No evil doers here . Asner is a fine actor given over the hill dialogue like ' we love you son .... ' ' You are part of our family ' literally days after they have met a stranger named Cody . And the ' band of brothers ' speech where the phrase was above all never intended to apply to virtual strangers off the battle field . Bottom line : This film is cotton candy Xmas fluff that betrays itself in major ways . Most grossly when it applauds Cody 's disrespect for Faith by physically hitting on her knowing full well she is spoken for . By re - defining family as we know it to wit : accepting a virtual stranger as a full fledged loving member of the family because we all ' love you . ' How many of you have done that or know anyone who has done that . NOT .\", max_len_a=2048, max_len_b=2048),max_len_a=2048,  max_len_b=2048)"
   ]
  },
  {
   "cell_type": "code",
   "execution_count": 3,
   "metadata": {},
   "outputs": [
    {
     "ename": "NameError",
     "evalue": "name 'pandas' is not defined",
     "output_type": "error",
     "traceback": [
      "\u001b[0;31m---------------------------------------------------------------------------\u001b[0m",
      "\u001b[0;31mNameError\u001b[0m                                 Traceback (most recent call last)",
      "\u001b[0;32m<ipython-input-3-78495691c025>\u001b[0m in \u001b[0;36m<module>\u001b[0;34m\u001b[0m\n\u001b[0;32m----> 1\u001b[0;31m \u001b[0mdf\u001b[0m \u001b[0;34m=\u001b[0m \u001b[0mpandas\u001b[0m\u001b[0;34m.\u001b[0m\u001b[0mread_csv\u001b[0m\u001b[0;34m(\u001b[0m\u001b[0;34m'nogit/SST-lstm.pwws.adv.tsv'\u001b[0m\u001b[0;34m,\u001b[0m \u001b[0;34m'\\t'\u001b[0m\u001b[0;34m)\u001b[0m\u001b[0;34m\u001b[0m\u001b[0;34m\u001b[0m\u001b[0m\n\u001b[0m\u001b[1;32m      2\u001b[0m \u001b[0;32mfor\u001b[0m \u001b[0mi\u001b[0m \u001b[0;32min\u001b[0m \u001b[0mrange\u001b[0m\u001b[0;34m(\u001b[0m\u001b[0mdf\u001b[0m\u001b[0;34m.\u001b[0m\u001b[0mshape\u001b[0m\u001b[0;34m[\u001b[0m\u001b[0;36m0\u001b[0m\u001b[0;34m]\u001b[0m\u001b[0;34m)\u001b[0m\u001b[0;34m:\u001b[0m\u001b[0;34m\u001b[0m\u001b[0;34m\u001b[0m\u001b[0m\n\u001b[1;32m      3\u001b[0m     \u001b[0;32mif\u001b[0m \u001b[0mlen\u001b[0m\u001b[0;34m(\u001b[0m\u001b[0mdf\u001b[0m\u001b[0;34m[\u001b[0m\u001b[0;34m'adv'\u001b[0m\u001b[0;34m]\u001b[0m\u001b[0;34m[\u001b[0m\u001b[0mi\u001b[0m\u001b[0;34m]\u001b[0m\u001b[0;34m.\u001b[0m\u001b[0msplit\u001b[0m\u001b[0;34m(\u001b[0m\u001b[0;34m\" \"\u001b[0m\u001b[0;34m)\u001b[0m\u001b[0;34m)\u001b[0m \u001b[0;34m>\u001b[0m \u001b[0;36m800\u001b[0m\u001b[0;34m:\u001b[0m\u001b[0;34m\u001b[0m\u001b[0;34m\u001b[0m\u001b[0m\n\u001b[1;32m      4\u001b[0m         \u001b[0mprint\u001b[0m\u001b[0;34m(\u001b[0m\u001b[0mi\u001b[0m \u001b[0;34m+\u001b[0m \u001b[0;36m1\u001b[0m\u001b[0;34m,\u001b[0m \u001b[0mlen\u001b[0m\u001b[0;34m(\u001b[0m\u001b[0mdf\u001b[0m\u001b[0;34m[\u001b[0m\u001b[0;34m'adv'\u001b[0m\u001b[0;34m]\u001b[0m\u001b[0;34m[\u001b[0m\u001b[0mi\u001b[0m\u001b[0;34m]\u001b[0m\u001b[0;34m.\u001b[0m\u001b[0msplit\u001b[0m\u001b[0;34m(\u001b[0m\u001b[0;34m\" \"\u001b[0m\u001b[0;34m)\u001b[0m\u001b[0;34m)\u001b[0m\u001b[0;34m)\u001b[0m\u001b[0;34m\u001b[0m\u001b[0;34m\u001b[0m\u001b[0m\n",
      "\u001b[0;31mNameError\u001b[0m: name 'pandas' is not defined"
     ]
    }
   ],
   "source": [
    "df = pandas.read_csv('nogit/SST-lstm.pwws.adv.tsv', '\\t')\n",
    "for i in range(df.shape[0]):\n",
    "    if len(df['adv'][i].split(\" \")) > 800:\n",
    "        print(i + 1, len(df['adv'][i].split(\" \")))"
   ]
  },
  {
   "cell_type": "code",
   "execution_count": 5,
   "metadata": {},
   "outputs": [
    {
     "name": "stdout",
     "output_type": "stream",
     "text": [
      "50\n",
      "100\n",
      "150\n",
      "200\n",
      "250\n",
      "300\n",
      "350\n",
      "400\n"
     ]
    }
   ],
   "source": [
    "import pandas\n",
    "from tqdm import tqdm\n",
    "df = pandas.read_csv('nogit/SST-lstm.pwws.adv.tsv', '\\t')\n",
    "out = open('nogit/SST-lstm.pwws.adv.bt.tsv', 'w')\n",
    "out.write('raw\\tadv\\tlabel\\n')\n",
    "# for \n",
    "# de2en.translate(en2de.translate('for the person, to  person, by person'))\n",
    "start_line = 0\n",
    "batch_size = 50\n",
    "while start_line < df.shape[0]:\n",
    "    current_batch = min(df.shape[0] - start_line, batch_size)\n",
    "    raws = df.iloc[start_line: start_line + current_batch, 0].tolist()\n",
    "    advs = df.iloc[start_line: start_line + current_batch, 1].tolist()\n",
    "    raw_bts = z2en.translate(en2z.translate(raws))\n",
    "    adv_bts = z2en.translate(en2z.translate(advs))\n",
    "    for i in range(current_batch):\n",
    "        out.write(f'{raw_bts[i]}\\t{adv_bts[i]}\\t{df.iloc[start_line + i, 2]}\\n')\n",
    "    start_line += current_batch\n",
    "    print(start_line)\n",
    "out.close()"
   ]
  },
  {
   "cell_type": "code",
   "execution_count": 16,
   "metadata": {},
   "outputs": [
    {
     "data": {
      "text/plain": [
       "['it takes a strange kind of laziness to waste the talents of robert forster , anne soaringly , eugene levy , even reginald veljohnson all there the same movie .',\n",
       " '... the film suffers from a lack of humor ( something needed get balance out the violence ) know',\n",
       " \"we root for ( clara and paul ) , even like them , though perhaps it 's an emotion closer to pity .\",\n",
       " 'even horror fans will most likely not find fact they we seeking with trouble every day ; the movie lacks rather thrills and humor .',\n",
       " 'a gorgeous , high - spirited broadway from india still exquisitely blends music , dance , song , and high drama .',\n",
       " \"what emotions are basically one will strike a nerve with anyone who 's ever had family trauma .\",\n",
       " \"audrey tatou even a knack for picking alongside that magnify her outrageous charm , and in this literate french comedy , she 's as morning - glory exuberant as she was in amateurishness .\",\n",
       " '... the film is just a usual although monster .',\n",
       " 'in its best moments , resemble a bad high school production of grease , perhaps benefit many song .',\n",
       " 'pumpkin takes an admirable look at the hypocrisy of political correctness , but it does so with such an uneven tone that you never know when humor ends and tragedy begins .']"
      ]
     },
     "execution_count": 16,
     "metadata": {},
     "output_type": "execute_result"
    }
   ],
   "source": [
    "df.iloc[10:20, 1].tolist()"
   ]
  },
  {
   "cell_type": "code",
   "execution_count": 6,
   "metadata": {},
   "outputs": [
    {
     "data": {
      "text/plain": [
       "['Hello Worlds', 'Good morning, sir']"
      ]
     },
     "execution_count": 6,
     "metadata": {},
     "output_type": "execute_result"
    }
   ],
   "source": [
    "de2en.translate(en2de.translate(['hello worlds', 'good morning, sir']))"
   ]
  },
  {
   "cell_type": "code",
   "execution_count": 57,
   "metadata": {},
   "outputs": [
    {
     "name": "stderr",
     "output_type": "stream",
     "text": [
      "Using cache found in /disks/sdb/torch_home/hub/pytorch_fairseq_master\n"
     ]
    }
   ],
   "source": [
    "import torch\n",
    "bart = torch.hub.load('pytorch/fairseq', 'bart.large')"
   ]
  },
  {
   "cell_type": "code",
   "execution_count": 58,
   "metadata": {},
   "outputs": [],
   "source": [
    "bart.task.build_dataset_for_inference = z2en.task.build_dataset_for_inference"
   ]
  },
  {
   "cell_type": "code",
   "execution_count": 69,
   "metadata": {},
   "outputs": [
    {
     "data": {
      "text/plain": [
       "['it is a a ra good day']"
      ]
     },
     "execution_count": 69,
     "metadata": {},
     "output_type": "execute_result"
    }
   ],
   "source": [
    "bart.sample([\"it is a a ra good day\"], beam=4, lenpen=2.0, max_len_b=140, min_len=1, no_repeat_ngram_size=3)"
   ]
  }
 ],
 "metadata": {
  "kernelspec": {
   "display_name": "Python 3",
   "language": "python",
   "name": "python3"
  },
  "language_info": {
   "codemirror_mode": {
    "name": "ipython",
    "version": 3
   },
   "file_extension": ".py",
   "mimetype": "text/x-python",
   "name": "python",
   "nbconvert_exporter": "python",
   "pygments_lexer": "ipython3",
   "version": "3.7.3"
  }
 },
 "nbformat": 4,
 "nbformat_minor": 4
}
