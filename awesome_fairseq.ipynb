{
 "cells": [
  {
   "cell_type": "code",
   "execution_count": 1,
   "metadata": {},
   "outputs": [
    {
     "name": "stderr",
     "output_type": "stream",
     "text": [
      "Using cache found in /disks/sdb/torch_home/hub/pytorch_fairseq_master\n",
      "Using cache found in /disks/sdb/torch_home/hub/pytorch_fairseq_master\n",
      "Using cache found in /disks/sdb/torch_home/hub/pytorch_fairseq_master\n"
     ]
    }
   ],
   "source": [
    "import torch\n",
    "import os\n",
    "\n",
    "os.environ[\"TORCH_HOME\"] = '/disks/sdb/torch_home'\n",
    "\n",
    "# List available models\n",
    "torch.hub.list('pytorch/fairseq', force_reload=False)  # [..., 'transformer.wmt18.en-de', ... ]\n",
    "\n",
    "# # Load the WMT'18 En-De ensemble\n",
    "en2de = torch.hub.load(\n",
    "    'pytorch/fairseq', 'transformer.wmt19.en-de',\n",
    "    checkpoint_file='model1.pt',\n",
    "    tokenizer='moses', bpe='fastbpe', verbose=True).cuda()\n",
    "\n",
    "de2en = torch.hub.load(\n",
    "    'pytorch/fairseq', 'transformer.wmt19.de-en',\n",
    "    checkpoint_file='model1.pt',\n",
    "    tokenizer='moses', bpe='fastbpe', verbose=True).cuda()\n",
    "\n",
    "# # Translate\n",
    "# en2de_ensemble.translate('Hello world!')\n",
    "# # 'Hallo Welt!'"
   ]
  },
  {
   "cell_type": "code",
   "execution_count": 16,
   "metadata": {},
   "outputs": [
    {
     "data": {
      "text/plain": [
       "'from person to person, from person to person'"
      ]
     },
     "execution_count": 16,
     "metadata": {},
     "output_type": "execute_result"
    }
   ],
   "source": [
    "de2en.translate(en2de.translate('for the person, to  person, by person'))"
   ]
  }
 ],
 "metadata": {
  "kernelspec": {
   "display_name": "Python 3",
   "language": "python",
   "name": "python3"
  },
  "language_info": {
   "codemirror_mode": {
    "name": "ipython",
    "version": 3
   },
   "file_extension": ".py",
   "mimetype": "text/x-python",
   "name": "python",
   "nbconvert_exporter": "python",
   "pygments_lexer": "ipython3",
   "version": "3.7.3"
  }
 },
 "nbformat": 4,
 "nbformat_minor": 4
}
